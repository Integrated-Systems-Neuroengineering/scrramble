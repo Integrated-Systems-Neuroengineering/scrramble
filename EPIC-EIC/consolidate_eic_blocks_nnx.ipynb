{
 "cells": [
  {
   "cell_type": "markdown",
   "metadata": {},
   "source": [
    "# Using `flax.nnx` for training\n"
   ]
  },
  {
   "cell_type": "markdown",
   "metadata": {},
   "source": [
    "- Give them power numbers, throughput numbers, latency numbers?\n",
    "- 10 Tera ops/s (can we estimate that?)\n",
    "- "
   ]
  },
  {
   "cell_type": "code",
   "execution_count": 112,
   "metadata": {},
   "outputs": [],
   "source": [
    "import os\n",
    "import json\n",
    "from typing import Callable\n",
    "import jax\n",
    "import jax.numpy as jnp\n",
    "from flax import nnx\n",
    "from flax.nnx.nn import initializers\n",
    "import optax\n",
    "import matplotlib.pyplot as plt\n",
    "import seaborn as sns\n",
    "from HelperFunctions.binary_trident_helper_functions import *\n",
    "from HelperFunctions.binary_ste import *\n",
    "# from EICDense import *\n",
    "# from Accumulator import *\n",
    "# from PermuteBlock import *\n",
    "\n",
    "plt.rcParams['font.family'] = 'sans-serif'\n",
    "plt.rcParams['font.sans-serif'] = ['Arial']"
   ]
  },
  {
   "cell_type": "code",
   "execution_count": 113,
   "metadata": {},
   "outputs": [
    {
     "name": "stdout",
     "output_type": "stream",
     "text": [
      "{'rram_r_min': 25000.0, 'rram_v_in': 0.1, 'rram_num_rows': 256, 'rram_num_cols': 256, 'rram_t': 1.25e-09, 'rram_energy_per_col_op': 1.28e-12, 'ctrl_energy_per_col_op': 6.14e-14, 'comparator_energy_per_col_op': 7.68e-14, 'bus_energy_per_col_op': 1.02e-12, 'sram_static_power': 5e-06, 'cycles_per_inference': 33, 'clk_period': 1.25e-09, 'duration_per_inference': 4.125e-08, 'bits_from_pic': 1024, 'total_eic_cores': 64}\n"
     ]
    }
   ],
   "source": [
    "# get chip params\n",
    "chip_params = json.load(open('chip_params.json', 'r'))\n",
    "print(chip_params)"
   ]
  },
  {
   "cell_type": "markdown",
   "metadata": {},
   "source": [
    "## Define a dummy module for STE in `nnx`"
   ]
  },
  {
   "cell_type": "code",
   "execution_count": 44,
   "metadata": {},
   "outputs": [],
   "source": [
    "class STEParams(nnx.Module):\n",
    "    \"\"\"\n",
    "    Define the parameters for the STE model:\n",
    "    - threshold: the threshold for the nonlinearity\n",
    "    - noise_sd: the standard deviation of the noise\n",
    "    \"\"\"\n",
    "    def __init__(self, threshold, noise_sd):\n",
    "        self.threshold = nnx.Param(threshold)\n",
    "        self.noise_sd = nnx.Param(noise_sd)\n",
    "\n",
    "# # create custom vjp, mark rng as nondifferentiable\n",
    "# nondiff_argnums = nnx.DiffState(2, lambda _: False)\n",
    "\n",
    "# @nnx.custom_vjp(nondiff_argnums=nondiff_argnums)\n",
    "# def binary_ste(x, params, rngs):\n",
    "#     threshold = params.threshold\n",
    "#     noise_sd = params.noise_sd\n",
    "#     rng = rngs.params()\n",
    "\n",
    "#     # add noise\n",
    "#     eps = jax.random.normal(rng, x.shape)\n",
    "#     noise = eps * noise_sd\n",
    "#     x_noisy = x + noise\n",
    "\n",
    "#     # threshold: forward pass\n",
    "#     y = jnp.where(x_noisy > threshold, 1.0, 0.0)\n",
    "\n",
    "#     return y\n",
    "\n",
    "# def binary_ste_fwd(x, params, rngs):\n",
    "#     \"\"\"\n",
    "#     Detailed implementation to store eps and noise-free input\n",
    "#     \"\"\"\n",
    "\n",
    "#     threshold = params.threshold\n",
    "#     noise_sd = params.noise_sd\n",
    "#     rng = rngs.params()\n",
    "\n",
    "#     # add noise\n",
    "#     eps = jax.random.normal(rng, x.shape) # reparametrization trick: noise = 0 + noise_sd * eps\n",
    "#     noise = eps * noise_sd\n",
    "#     x_noisy = x + noise\n",
    "\n",
    "#     # threshold: forward pass\n",
    "#     y = jnp.where(x_noisy > threshold, 1.0, 0.0)\n",
    "\n",
    "#     return y, (x, params, eps) # x, params, eps are required to compute gradients for all learnable parameters (w.r.t. x, threshold, noise_sd)\n",
    "\n",
    "\n",
    "# def binary_ste_bwd(res, g):\n",
    "#     # in nnx.custom_vjp, gradients are provided as (input_updates_g, out_g)\n",
    "#     input_updates_g, out_g = g\n",
    "#     x_original, params, eps, rngs = res\n",
    "#     noise_sd = params.noise_sd\n",
    "\n",
    "#     # define clipping STE\n",
    "#     mask = jnp.where(jnp.abs(x_original) <= noise_sd, 1.0, 0.0)\n",
    "\n",
    "#     # gradient w.r.t. x\n",
    "#     dx = mask * out_g\n",
    "\n",
    "#     # gradient w.r.t. threshold, should also include STE but with negative sign\n",
    "#     dthreshold = -out_g * mask\n",
    "\n",
    "#     # gradient w.r.t noise_sd: \n",
    "#     dnoise_sd = out_g * mask * eps\n",
    "\n",
    "#     # retrieve and update the gradients\n",
    "#     params_updates_g = input_updates_g[1]\n",
    "#     params_grad = jax.tree.map(lambda x: x, params_updates_g) # creating a copy\n",
    "#     params_grad['threshold'].value = dthreshold\n",
    "#     params_grad['noise_sd'].value = dnoise_sd\n",
    "\n",
    "#     return (dx, params_grad, None) # 0 is for rngs\n",
    "\n",
    "# binary_ste.defvjp(binary_ste_fwd, binary_ste_bwd)\n",
    "\n",
    "\n"
   ]
  },
  {
   "cell_type": "code",
   "execution_count": 2,
   "metadata": {},
   "outputs": [],
   "source": [
    "@nnx.custom_vjp\n",
    "def custom_activation(x, params, key):\n",
    "    threshold = params.threshold\n",
    "    noise_sd = params.noise_sd\n",
    "\n",
    "    # add noise\n",
    "    eps = jax.random.normal(key, x.shape)\n",
    "    noise = eps * noise_sd\n",
    "    x_noisy = x + noise\n",
    "\n",
    "    # threshold: forward pass\n",
    "    y = jnp.where(x_noisy > threshold, 1.0, 0.0)\n",
    "\n",
    "    return y\n",
    "\n",
    "def custom_activation_fwd(x, params, key):\n",
    "    threshold = params.threshold\n",
    "    noise_sd = params.noise_sd\n",
    "\n",
    "    # add noise\n",
    "    eps = jax.random.normal(key, x.shape)\n",
    "    noise = eps * noise_sd\n",
    "    x_noisy = x + noise\n",
    "\n",
    "    # threshold: forward pass\n",
    "    y = jnp.where(x_noisy > threshold, 1.0, 0.0)\n",
    "\n",
    "    return y, (x, params, eps)\n",
    "\n",
    "def custom_activation_bwd(res, g):\n",
    "    x, params, eps = res\n",
    "    noise_sd = params.noise_sd\n",
    "\n",
    "    # define clipping STE\n",
    "    mask = jnp.where(jnp.abs(x) <= noise_sd, 1.0, 0.0)\n",
    "\n",
    "    # gradient w.r.t. x\n",
    "    dx = mask * g\n",
    "\n",
    "    # gradient w.r.t. threshold, should also include STE but with negative sign\n",
    "    dthreshold = -g * mask\n",
    "\n",
    "    # gradient w.r.t noise_sd: \n",
    "    dnoise_sd = g * mask * eps\n",
    "\n",
    "    return (dx, dthreshold, dnoise_sd, None)\n",
    "\n",
    "custom_activation.defvjp(custom_activation_fwd, custom_activation_bwd)\n"
   ]
  },
  {
   "cell_type": "code",
   "execution_count": 52,
   "metadata": {},
   "outputs": [
    {
     "ename": "ValueError",
     "evalue": "vmap was requested to map its argument along axis 0, which implies that its rank should be at least 1, but is only 0 (its shape is ())",
     "output_type": "error",
     "traceback": [
      "\u001b[0;31m---------------------------------------------------------------------------\u001b[0m",
      "\u001b[0;31mIndexError\u001b[0m                                Traceback (most recent call last)",
      "File \u001b[0;32m~/miniconda3/envs/jax_env/lib/python3.12/site-packages/jax/_src/api.py:1253\u001b[0m, in \u001b[0;36m_mapped_axis_size.<locals>._get_axis_size\u001b[0;34m(name, shape, axis)\u001b[0m\n\u001b[1;32m   1252\u001b[0m \u001b[38;5;28;01mtry\u001b[39;00m:\n\u001b[0;32m-> 1253\u001b[0m   \u001b[38;5;28;01mreturn\u001b[39;00m \u001b[43mshape\u001b[49m\u001b[43m[\u001b[49m\u001b[43maxis\u001b[49m\u001b[43m]\u001b[49m\n\u001b[1;32m   1254\u001b[0m \u001b[38;5;28;01mexcept\u001b[39;00m (\u001b[38;5;167;01mIndexError\u001b[39;00m, \u001b[38;5;167;01mTypeError\u001b[39;00m) \u001b[38;5;28;01mas\u001b[39;00m e:\n",
      "\u001b[0;31mIndexError\u001b[0m: tuple index out of range",
      "\nThe above exception was the direct cause of the following exception:\n",
      "\u001b[0;31mValueError\u001b[0m                                Traceback (most recent call last)",
      "Cell \u001b[0;32mIn[52], line 7\u001b[0m\n\u001b[1;32m      4\u001b[0m fwd \u001b[38;5;241m=\u001b[39m custom_activation(x, ste_params, key)\n\u001b[1;32m      5\u001b[0m key, subkey \u001b[38;5;241m=\u001b[39m jax\u001b[38;5;241m.\u001b[39mrandom\u001b[38;5;241m.\u001b[39msplit(key)\n\u001b[0;32m----> 7\u001b[0m gr_ \u001b[38;5;241m=\u001b[39m \u001b[43mnnx\u001b[49m\u001b[38;5;241;43m.\u001b[39;49m\u001b[43mvmap\u001b[49m\u001b[43m(\u001b[49m\u001b[43mnnx\u001b[49m\u001b[38;5;241;43m.\u001b[39;49m\u001b[43mgrad\u001b[49m\u001b[43m(\u001b[49m\u001b[43mcustom_activation\u001b[49m\u001b[43m)\u001b[49m\u001b[43m,\u001b[49m\u001b[43m \u001b[49m\u001b[43min_axes\u001b[49m\u001b[43m \u001b[49m\u001b[38;5;241;43m=\u001b[39;49m\u001b[43m \u001b[49m\u001b[43m(\u001b[49m\u001b[38;5;241;43m0\u001b[39;49m\u001b[43m,\u001b[49m\u001b[43m \u001b[49m\u001b[38;5;241;43m0\u001b[39;49m\u001b[43m,\u001b[49m\u001b[43m \u001b[49m\u001b[38;5;28;43;01mNone\u001b[39;49;00m\u001b[43m)\u001b[49m\u001b[43m)\u001b[49m\u001b[43m(\u001b[49m\u001b[43mx\u001b[49m\u001b[43m,\u001b[49m\u001b[43m \u001b[49m\u001b[43mste_params\u001b[49m\u001b[43m,\u001b[49m\u001b[43m \u001b[49m\u001b[43msubkey\u001b[49m\u001b[43m)\u001b[49m\n\u001b[1;32m      8\u001b[0m \u001b[38;5;28mprint\u001b[39m(gr_)\n\u001b[1;32m     10\u001b[0m plt\u001b[38;5;241m.\u001b[39mplot(x, fwd)\n",
      "File \u001b[0;32m~/miniconda3/envs/jax_env/lib/python3.12/site-packages/flax/nnx/graph.py:1041\u001b[0m, in \u001b[0;36mUpdateContextManager.__call__.<locals>.update_context_manager_wrapper\u001b[0;34m(*args, **kwargs)\u001b[0m\n\u001b[1;32m   1038\u001b[0m \u001b[38;5;129m@functools\u001b[39m\u001b[38;5;241m.\u001b[39mwraps(f)\n\u001b[1;32m   1039\u001b[0m \u001b[38;5;28;01mdef\u001b[39;00m \u001b[38;5;21mupdate_context_manager_wrapper\u001b[39m(\u001b[38;5;241m*\u001b[39margs, \u001b[38;5;241m*\u001b[39m\u001b[38;5;241m*\u001b[39mkwargs):\n\u001b[1;32m   1040\u001b[0m   \u001b[38;5;28;01mwith\u001b[39;00m \u001b[38;5;28mself\u001b[39m:\n\u001b[0;32m-> 1041\u001b[0m     \u001b[38;5;28;01mreturn\u001b[39;00m \u001b[43mf\u001b[49m\u001b[43m(\u001b[49m\u001b[38;5;241;43m*\u001b[39;49m\u001b[43margs\u001b[49m\u001b[43m,\u001b[49m\u001b[43m \u001b[49m\u001b[38;5;241;43m*\u001b[39;49m\u001b[38;5;241;43m*\u001b[39;49m\u001b[43mkwargs\u001b[49m\u001b[43m)\u001b[49m\n",
      "File \u001b[0;32m~/miniconda3/envs/jax_env/lib/python3.12/site-packages/flax/nnx/transforms/iteration.py:345\u001b[0m, in \u001b[0;36mvmap.<locals>.vmap_wrapper\u001b[0;34m(*args, **kwargs)\u001b[0m\n\u001b[1;32m    341\u001b[0m args \u001b[38;5;241m=\u001b[39m resolve_kwargs(f, args, kwargs)\n\u001b[1;32m    342\u001b[0m pure_args \u001b[38;5;241m=\u001b[39m extract\u001b[38;5;241m.\u001b[39mto_tree(\n\u001b[1;32m    343\u001b[0m     args, prefix\u001b[38;5;241m=\u001b[39min_axes, split_fn\u001b[38;5;241m=\u001b[39m_vmap_split_fn, ctxtag\u001b[38;5;241m=\u001b[39m\u001b[38;5;124m'\u001b[39m\u001b[38;5;124mvmap\u001b[39m\u001b[38;5;124m'\u001b[39m\n\u001b[1;32m    344\u001b[0m )\n\u001b[0;32m--> 345\u001b[0m pure_args_out, pure_out \u001b[38;5;241m=\u001b[39m \u001b[43mvmapped_fn\u001b[49m\u001b[43m(\u001b[49m\u001b[38;5;241;43m*\u001b[39;49m\u001b[43mpure_args\u001b[49m\u001b[43m)\u001b[49m\n\u001b[1;32m    346\u001b[0m _args_out, out \u001b[38;5;241m=\u001b[39m extract\u001b[38;5;241m.\u001b[39mfrom_tree((pure_args_out, pure_out), ctxtag\u001b[38;5;241m=\u001b[39m\u001b[38;5;124m'\u001b[39m\u001b[38;5;124mvmap\u001b[39m\u001b[38;5;124m'\u001b[39m)\n\u001b[1;32m    347\u001b[0m \u001b[38;5;28;01mreturn\u001b[39;00m out\n",
      "    \u001b[0;31m[... skipping hidden 5 frame]\u001b[0m\n",
      "File \u001b[0;32m~/miniconda3/envs/jax_env/lib/python3.12/site-packages/jax/_src/api.py:1257\u001b[0m, in \u001b[0;36m_mapped_axis_size.<locals>._get_axis_size\u001b[0;34m(name, shape, axis)\u001b[0m\n\u001b[1;32m   1255\u001b[0m min_rank \u001b[38;5;241m=\u001b[39m axis \u001b[38;5;241m+\u001b[39m \u001b[38;5;241m1\u001b[39m \u001b[38;5;28;01mif\u001b[39;00m axis \u001b[38;5;241m>\u001b[39m\u001b[38;5;241m=\u001b[39m \u001b[38;5;241m0\u001b[39m \u001b[38;5;28;01melse\u001b[39;00m \u001b[38;5;241m-\u001b[39maxis\n\u001b[1;32m   1256\u001b[0m \u001b[38;5;66;03m# TODO(mattjj): better error message here\u001b[39;00m\n\u001b[0;32m-> 1257\u001b[0m \u001b[38;5;28;01mraise\u001b[39;00m \u001b[38;5;167;01mValueError\u001b[39;00m(\n\u001b[1;32m   1258\u001b[0m     \u001b[38;5;124mf\u001b[39m\u001b[38;5;124m\"\u001b[39m\u001b[38;5;132;01m{\u001b[39;00mname\u001b[38;5;132;01m}\u001b[39;00m\u001b[38;5;124m was requested to map its argument along axis \u001b[39m\u001b[38;5;132;01m{\u001b[39;00maxis\u001b[38;5;132;01m}\u001b[39;00m\u001b[38;5;124m, \u001b[39m\u001b[38;5;124m\"\u001b[39m\n\u001b[1;32m   1259\u001b[0m     \u001b[38;5;124mf\u001b[39m\u001b[38;5;124m\"\u001b[39m\u001b[38;5;124mwhich implies that its rank should be at least \u001b[39m\u001b[38;5;132;01m{\u001b[39;00mmin_rank\u001b[38;5;132;01m}\u001b[39;00m\u001b[38;5;124m, \u001b[39m\u001b[38;5;124m\"\u001b[39m\n\u001b[1;32m   1260\u001b[0m     \u001b[38;5;124mf\u001b[39m\u001b[38;5;124m\"\u001b[39m\u001b[38;5;124mbut is only \u001b[39m\u001b[38;5;132;01m{\u001b[39;00m\u001b[38;5;28mlen\u001b[39m(shape)\u001b[38;5;132;01m}\u001b[39;00m\u001b[38;5;124m (its shape is \u001b[39m\u001b[38;5;132;01m{\u001b[39;00mshape\u001b[38;5;132;01m}\u001b[39;00m\u001b[38;5;124m)\u001b[39m\u001b[38;5;124m\"\u001b[39m) \u001b[38;5;28;01mfrom\u001b[39;00m \u001b[38;5;21;01me\u001b[39;00m\n",
      "\u001b[0;31mValueError\u001b[0m: vmap was requested to map its argument along axis 0, which implies that its rank should be at least 1, but is only 0 (its shape is ())"
     ]
    }
   ],
   "source": [
    "x = jnp.arange(-2, 2, 0.1)\n",
    "ste_params = STEParams(threshold=0.0, noise_sd=0.1)\n",
    "key = jax.random.key(0)\n",
    "fwd = custom_activation(x, ste_params, key)\n",
    "key, subkey = jax.random.split(key)\n",
    "\n",
    "gr_ = nnx.vmap(nnx.grad(custom_activation), in_axes = (0, 0, None))(x, ste_params, subkey)\n",
    "print(gr_)\n",
    "\n",
    "plt.plot(x, fwd)\n"
   ]
  },
  {
   "cell_type": "code",
   "execution_count": 31,
   "metadata": {},
   "outputs": [
    {
     "data": {
      "image/png": "[encoded data removed]",
      "text/plain": [
       "<Figure size 660x550 with 2 Axes>"
      ]
     },
     "metadata": {},
     "output_type": "display_data"
    }
   ],
   "source": [
    "## testing\n",
    "t = jnp.linspace(-2, 2, 200)\n",
    "th = 0.0\n",
    "noise_sd = 0.1\n",
    "kk = jax.random.key(0)\n",
    "act = binary_ste(t, th, noise_sd, kk)\n",
    "cus_grad = jax.vmap(jax.grad(binary_ste), in_axes=(0, None, None, None))(t, th, noise_sd, kk)\n",
    "\n",
    "fig, ax1 = plt.subplots(dpi = 110, figsize = (6, 5))\n",
    "\n",
    "ax2 = ax1.twinx()\n",
    "ax1.plot(t, act, c = 'b', lw = 2.5, label = \"Ternary activation\")\n",
    "# ax1.plot(t, exp_st, lw = 2.5, label = \"Expected State\")\n",
    "ax2.plot(t, cus_grad, c = 'r', lw = 2.5, label = r\"\\nabla_{\\tilde{y}} \\mathbb{E}[s | \\tilde{y}]\")\n",
    "ax1.legend(loc = (0.3, 0.8), fontsize = 12, frameon = False)\n",
    "ax1.grid(alpha = .3)\n",
    "ax1.set_xlabel(r'$y$', fontsize = 14)\n",
    "ax1.set_ylabel('Activation / Expected State', fontsize = 14)\n",
    "ax2.set_ylabel('Custom Gradient', fontsize = 14)\n",
    "plt.tight_layout()"
   ]
  },
  {
   "cell_type": "markdown",
   "metadata": {},
   "source": [
    "## Consolidating the modules: `EICLinear`\n",
    "- `EICLinear` is simply a consolidated module representing `EICDense`, `Accumulator` and `PermuteBlock` modules\n",
    "\n",
    "\n",
    "## Metrics calculations\n",
    "\n",
    "### 1. Energy\n",
    "- $E_N$ : Energy per neuron\n",
    "- $n_c$ : number of neurons per core\n",
    "- $E_c$ : Energy per core\n",
    "- $N_c$ : total number of cores required for the network.\n",
    "- $E_N$ : Energy for network\n",
    "\n",
    "$E_N = (n_c \\times E_N) \\times E_c \\times N_c$\n",
    "\n",
    "### 2. No. cores required:\n",
    "- $L_1$ : Layer 1 size (1024)\n",
    "- $L_2$ : Layer 2 size (2048)\n",
    "- $L_3$ : Layer 3 size (512)\n",
    "- $L_4$ : Layer 4 size (10 (256))\n",
    "\n",
    "First compute the parameter size we need\n",
    "\n",
    "$W_{21} \\in \\mathbb{R}^{2048 \\times 1024}$ : Cores $\\to 8 \\times 4 = 32$\n",
    "\n",
    "$W_{23} \\in \\mathbb{R}^{512 \\times 2048}$  : Cores $\\to 2 \\times 8 = 16$\n",
    "\n",
    "$W_{34} \\in \\mathbb{R}^{256 \\times 512}$   : Cores $\\to 1 \\times 2 = 2$\n",
    "\n",
    "- Total # dense cores $N_d = 32 + 16 + 1 = 49$\n",
    "- Total # accumulator cores $N_a = 8 + 2 + 1 = 11$\n",
    "- Total # cores needed for network $N_c = 49 + 11 = 61$\n",
    "  "
   ]
  },
  {
   "cell_type": "code",
   "execution_count": 30,
   "metadata": {},
   "outputs": [
    {
     "name": "stdout",
     "output_type": "stream",
     "text": [
      "[32, 16, 2]\n",
      "{'dense_cores': 50, 'accumulator_cores': 11, 'total_cores': 61}\n"
     ]
    }
   ],
   "source": [
    "def get_num_cores(params):\n",
    "    layers = params['layers']\n",
    "\n",
    "    # compute number of cores needed\n",
    "    cores_per_param = [max(l1//256, 1) * max(l2//256, 1) for l1, l2 in zip(layers[:-1], layers[1:])]\n",
    "    print(cores_per_param)\n",
    "    dense_cores = sum(cores_per_param)\n",
    "    acc_cores = [max(l2//256, 1) for l2 in layers[1:]]\n",
    "    acc_cores = sum(acc_cores)\n",
    "\n",
    "    tot_cores = dense_cores + acc_cores # store this is return parameters\n",
    "\n",
    "    # same a secondary metrics list\n",
    "    size_metrics = {\n",
    "        'dense_cores': dense_cores,\n",
    "        'accumulator_cores': acc_cores,\n",
    "        'total_cores': tot_cores,\n",
    "    }\n",
    "\n",
    "    return size_metrics\n",
    "\n",
    "metric_params = {\n",
    "    'layers': [1024, 2048, 512, 256], # include layer sizes\n",
    "}\n",
    "\n",
    "print(get_num_cores(metric_params))\n"
   ]
  },
  {
   "cell_type": "code",
   "execution_count": 24,
   "metadata": {},
   "outputs": [
    {
     "name": "stdout",
     "output_type": "stream",
     "text": [
      "[32, 16, 2]\n",
      "5.000000610000001e-06 {'dense_cores': 50, 'accumulator_cores': 11, 'total_cores': 61}\n"
     ]
    }
   ],
   "source": [
    "def get_energy_net(params):\n",
    "    e_neuron = params['e_neuron']\n",
    "    nc = params['nc']\n",
    "    e_core = params['e_core']\n",
    "    layers = params['layers']\n",
    "    e_static = params['e_static']\n",
    "\n",
    "    # compute number of cores needed\n",
    "    cores_per_param = [max(l1//256, 1) * max(l2//256, 1) for l1, l2 in zip(layers[:-1], layers[1:])]\n",
    "    print(cores_per_param)\n",
    "    dense_cores = sum(cores_per_param)\n",
    "    acc_cores = [max(l2//256, 1) for l2 in layers[1:]]\n",
    "    acc_cores = sum(acc_cores)\n",
    "\n",
    "    tot_cores = dense_cores + acc_cores # store this is return parameters\n",
    "\n",
    "    # energy estimate for network\n",
    "    e_net = e_core * tot_cores + e_static\n",
    "\n",
    "    # same a secondary metrics list\n",
    "    secondary_metrics = {\n",
    "        'dense_cores': dense_cores,\n",
    "        'accumulator_cores': acc_cores,\n",
    "        'total_cores': tot_cores,\n",
    "    }\n",
    "\n",
    "    return e_net, secondary_metrics\n",
    "\n",
    "metric_params = {\n",
    "    'e_neuron': None, #J\n",
    "    'nc': 256,\n",
    "    'e_core': 10e-15, #J\n",
    "    'layers': [1024, 2048, 512, 256],\n",
    "    'e_static' : 5e-6  #W\n",
    "}\n",
    "\n",
    "e_net, sec_params = get_energy_net(metric_params)\n",
    "print(e_net, sec_params)              "
   ]
  },
  {
   "cell_type": "code",
   "execution_count": 29,
   "metadata": {},
   "outputs": [
    {
     "name": "stdout",
     "output_type": "stream",
     "text": [
      "[24, 16, 4]\n",
      "5.0000005300000004e-06 {'dense_cores': 44, 'accumulator_cores': 9, 'total_cores': 53}\n"
     ]
    }
   ],
   "source": [
    "metric_params_nn2_inf = {\n",
    "    'e_neuron': None, #J\n",
    "    'nc': 256,\n",
    "    'e_core': 10e-15, #J\n",
    "    'layers': [7*7*32, 1024, 1024, 10],\n",
    "    'e_static' : 5e-6  #W\n",
    "}\n",
    "\n",
    "e_net, sec_params = get_energy_net(metric_params_nn2_inf)\n",
    "print(e_net, sec_params)"
   ]
  },
  {
   "cell_type": "code",
   "execution_count": 28,
   "metadata": {},
   "outputs": [
    {
     "name": "stdout",
     "output_type": "stream",
     "text": [
      "[16, 16, 16, 4]\n",
      "5.00000065e-06 {'dense_cores': 52, 'accumulator_cores': 13, 'total_cores': 65}\n"
     ]
    }
   ],
   "source": [
    "metric_params_nn1_inf = {\n",
    "    'e_neuron': None, #J\n",
    "    'nc': 256,\n",
    "    'e_core': 10e-15, #J\n",
    "    'layers': [1024, 1024, 1024, 1024, 10],\n",
    "    'e_static' : 5e-6  #W\n",
    "}\n",
    "\n",
    "e_net, sec_params = get_energy_net(metric_params_nn1_inf)\n",
    "print(e_net, sec_params)"
   ]
  },
  {
   "cell_type": "code",
   "execution_count": 2,
   "metadata": {},
   "outputs": [],
   "source": [
    "## using the block module\n",
    "class Block(nnx.Module):\n",
    "    \"\"\"Base class for accelerator circuit blocks.\"\"\"\n",
    "    \n",
    "    def get_latency(self) -> float:\n",
    "        \"\"\"Returns the latency of this block (in seconds).\"\"\"\n",
    "        raise NotImplementedError(\"Must implement a calculation for latency of\"\n",
    "                                  \" this block.\")\n",
    "\n",
    "    def get_operations(self) -> int:\n",
    "        \"\"\"Returns the number of operations performed by this block (in ops).\"\"\"\n",
    "        raise NotImplementedError(\"Must implement a calculation for number of\"\n",
    "                                  \" operations performed by this block.\")\n",
    "    \n",
    "    def get_energy(self) -> float:\n",
    "        \"\"\"Returns the energy consumption of this block (in Joules).\"\"\"\n",
    "        raise NotImplementedError(\"Must implement a calculation for energy\"\n",
    "                                  \" consumption of this block.\")\n",
    "\n",
    "    def __call__(self, x: jax.Array) -> jax.Array:\n",
    "        \"\"\"Forward pass of the block (to be implemented by subclasses).\n",
    "        \n",
    "            note: Block is expected to reshape its own input to the correct shape.\n",
    "                e.g.: x = x.reshape(self.input_shape)\n",
    "        \"\"\"\n",
    "        raise NotImplementedError(\"Must implement a forward pass for this block.\")\n",
    "    \n",
    "    def __getitem__(self, key: str):\n",
    "        \"\"\"Syntactic sugar to call the latency, operations, or energy methods\n",
    "            useful for traversing the connection tree for various calculations.\n",
    "        \"\"\"\n",
    "        if key == \"latency\":\n",
    "            return self.get_latency()\n",
    "        elif key == \"operations\" or key == \"ops\":\n",
    "            return self.get_operations()\n",
    "        elif key == \"energy\":\n",
    "            return self.get_energy()\n",
    "        else:\n",
    "            raise KeyError(f\"Indexing key {key} not supported.\")"
   ]
  },
  {
   "cell_type": "markdown",
   "metadata": {},
   "source": [
    "## Converting EICDense to `nnx.Module`"
   ]
  },
  {
   "cell_type": "code",
   "execution_count": 3,
   "metadata": {},
   "outputs": [
    {
     "name": "stdout",
     "output_type": "stream",
     "text": [
      "(10, 8, 4, 256)\n",
      "(8, 4, 256, 256)\n"
     ]
    }
   ],
   "source": [
    "class EICDense(nnx.Module):\n",
    "    \"\"\"\n",
    "    Pseudo-dense layer using EIC Cores.\n",
    "    Args:\n",
    "    in_size: int, number of input neurons\n",
    "    out_size: int, number of output neurons\n",
    "    threshold: float, threshold for binary activation\n",
    "    noise_sd: flaat, standard deviation of noise for binary activation\n",
    "    key: jax.random.PRNGKey, random key\n",
    "\n",
    "    Returns:\n",
    "    x: jnp.ndarray, output of the layer\n",
    "    \"\"\"\n",
    "\n",
    "    def __init__(self, in_size, out_size, key):\n",
    "        self.in_size = in_size\n",
    "        self.out_size = out_size\n",
    "\n",
    "        # initialize the number of cores required\n",
    "        self.in_blocks = in_size // 256\n",
    "        self.out_blocks = out_size // 256\n",
    "        self.num_cores = self.in_blocks * self.out_blocks\n",
    "\n",
    "        # initialize the core weights\n",
    "        # weights reshaped as (out_blocks, in_blocks, 256, 256)y\n",
    "        # assumes that input is shaped as (batch_size, in_blocks, 256)\n",
    "        glorot_initializer = initializers.glorot_normal()\n",
    "        self.cores = nnx.Param(glorot_initializer(key, (self.out_blocks, self.in_blocks, 256, 256)))\n",
    "\n",
    "\n",
    "    def __call__(self, x):\n",
    "        \"\"\"\n",
    "        Forward pass of the layer\n",
    "        Args:\n",
    "        x: jnp.ndarray (batch_size, in_size), input to the layer\n",
    "        \n",
    "        Returns:\n",
    "        x: jnp.ndarray, output of the layer\n",
    "        \"\"\"\n",
    "\n",
    "        assert x.shape[-1] == self.in_size, f\"Input shape is incorrect. Got {x.shape[-1]}, expected {self.in_size}\"\n",
    "\n",
    "        x_reshaped = x.reshape(x.shape[0], self.in_blocks, 256) # organize x into blocks of 256 for every batch\n",
    "\n",
    "        # make sure that the weights are positive\n",
    "        self.cores = jax.nn.softplus(self.cores)\n",
    "\n",
    "        y = jnp.einsum(\"ijkl,bjl->bijk\", self.cores, x_reshaped)\n",
    "\n",
    "        # quantize weights\n",
    "        # W_pos = quantize_params(W_pos, bits = 8)\n",
    "\n",
    "        return y\n",
    "    \n",
    "# test\n",
    "key = jax.random.key(123124)\n",
    "ed = EICDense(in_size = 1024, out_size = 2048, key = key)\n",
    "x = jax.random.normal(key, (10, 1024))*0.01\n",
    "y = ed(x)\n",
    "print(y.shape)\n",
    "print(ed.cores.shape)"
   ]
  },
  {
   "cell_type": "markdown",
   "metadata": {},
   "source": [
    "## Converting Accumulator to `nnx.Module`"
   ]
  },
  {
   "cell_type": "code",
   "execution_count": 4,
   "metadata": {},
   "outputs": [
    {
     "name": "stdout",
     "output_type": "stream",
     "text": [
      "(10, 2048)\n",
      "(8, 256, 256)\n"
     ]
    },
    {
     "data": {
      "image/png": "[encoded data removed]",
      "text/plain": [
       "<Figure size 640x480 with 1 Axes>"
      ]
     },
     "metadata": {},
     "output_type": "display_data"
    }
   ],
   "source": [
    "# define the accumulator module\n",
    "class Accumulator(nnx.Module):\n",
    "    \"\"\"\n",
    "    Accumulating the EICDense outputs. \n",
    "    Since the EICDense generates pseudo-feedforward outputs, we use a learnable accumulation matrix that minimizes error\n",
    "    between the true feedforward output and the EIC output.\n",
    "\n",
    "    Args:\n",
    "        in_block_size: int, number of 256-sized blocks. This should be the .shape[0] of the EICDense output\n",
    "    \"\"\"\n",
    "\n",
    "    def __init__(self, out_size, key):\n",
    "\n",
    "        # this should be the same as the number of output blocks from the EICDense\n",
    "        self.out_block = out_size//256\n",
    "\n",
    "        # set up the params\n",
    "        glorot_initializer = initializers.glorot_normal()\n",
    "        self.acc_cores = nnx.Param(glorot_initializer(key, (self.out_block, 256, 256)))\n",
    "\n",
    "\n",
    "\n",
    "    def __call__(self, x):\n",
    "        \"\"\"\n",
    "        Forward pass of the accumulator\n",
    "        Args:\n",
    "        x: jnp.ndarray, input to the accumulator\n",
    "        \n",
    "        Returns:\n",
    "        x: jnp.ndarray, output of the accumulator\n",
    "        \"\"\"\n",
    "\n",
    "        assert x.shape[1] == self.out_block, f\"Input shape is incorrect. Got {x.shape[1]}, expected {self.out_block}\"\n",
    "        # assert x.shape[1] == self.out_block_size, \"Input shape is incorrect\"\n",
    "\n",
    "        # ensure positive \n",
    "        self.acc_cores = jax.nn.softplus(self.acc_cores)\n",
    "        # W_pos = quantize_params(W_pos, bits = 8)\n",
    "        \n",
    "        x = jnp.einsum(\"bijk->bik\", x)\n",
    "        y = jnp.einsum(\"ijk,bik->bik\", self.acc_cores, x) \n",
    "\n",
    "        # flatten y before returning\n",
    "        y = y.reshape((y.shape[0], -1)) # (batch_size, out_size)\n",
    "\n",
    "        return y\n",
    "\n",
    "# test\n",
    "acc = Accumulator(out_size = 2048, key = key)\n",
    "y_acc = binary_ste(acc(y), threshold = 0.0, noise_sd = 5e-2, key = key)\n",
    "plt.imshow(y_acc.reshape(-1, 128))\n",
    "print(y_acc.shape)\n",
    "print(acc.acc_cores.shape)\n"
   ]
  },
  {
   "cell_type": "markdown",
   "metadata": {},
   "source": [
    "## Converting PermuteBlock to `nnx.Module`"
   ]
  },
  {
   "cell_type": "code",
   "execution_count": 42,
   "metadata": {},
   "outputs": [
    {
     "name": "stdout",
     "output_type": "stream",
     "text": [
      "(10, 2048)\n",
      "PermuteBlock(\n",
      "  input_size=2048,\n",
      "  permute_block_size=16,\n",
      "  core_input_size=256,\n",
      "  num_slots=16,\n",
      "  num_subvectors=8,\n",
      "  tau=Param(\n",
      "    value=1.0\n",
      "  ),\n",
      "  Ppos=Array(shape=(16, 16), dtype=float32),\n",
      "  Pneg=Array(shape=(16, 16), dtype=float32)\n",
      ")\n"
     ]
    },
    {
     "data": {
      "image/png": "[encoded data removed]",
      "text/plain": [
       "<Figure size 640x480 with 1 Axes>"
      ]
     },
     "metadata": {},
     "output_type": "display_data"
    }
   ],
   "source": [
    "class PermuteBlock(nnx.Module):\n",
    "    \"\"\"\n",
    "    Contains two fixed permutation matrices (pos and neg) to shuffle the input block-wise.\n",
    "    This block should be used at the beginning of the pipeline so that balanced inputs are fed into the EICDense/\n",
    "    \"\"\"\n",
    "\n",
    "    def __init__(self, \n",
    "                 input_size: int\n",
    "                 ):\n",
    "        \n",
    "        # define permutation axes\n",
    "        self.input_size = input_size\n",
    "        self.permute_block_size = 16\n",
    "        self.core_input_size = 256\n",
    "        self.num_slots = self.core_input_size // self.permute_block_size # should be 16 in the latest iteration\n",
    "        self.num_subvectors = self.input_size // self.core_input_size # for input_size = 1024, should be 4\n",
    "\n",
    "        # initialize the temperature parameter\n",
    "        self.tau = nnx.Param(1.0)\n",
    "\n",
    "        # generate two independent permutation sequences\n",
    "        key = jax.random.key(1245)\n",
    "        key1, key2 = jax.random.split(key)\n",
    "        p1 = jax.random.permutation(key1, self.num_slots)\n",
    "        p2 = jax.random.permutation(key2, self.num_slots) # jnp.roll(p1, shift = 1) #\n",
    "\n",
    "        # generate permutation matrices\n",
    "        m1 = jnp.eye(self.num_slots)*self.tau\n",
    "        m2 = jnp.eye(self.num_slots)*self.tau\n",
    "\n",
    "        # generate the permutation matrices\n",
    "        self.Ppos = m1[p1]\n",
    "        self.Ppos = jax.nn.softmax(self.Ppos, axis = -1)\n",
    "        self.Pneg = m2[p2]\n",
    "        self.Pneg = jax.nn.softmax(self.Pneg, axis = -1)\n",
    "\n",
    "    def __call__(self, x: jax.Array) -> jax.Array:\n",
    "        \"\"\"\n",
    "        Apply permutations and return (xpos - xneg)\n",
    "        Args:\n",
    "        x: jnp.ndarray, input vector. Shape: (batch_size, input_size) e.g. (32, 2048)\n",
    "        Returns:\n",
    "        xpos - xneg: jnp.ndarray, difference of permuted inputs. Shape: (batch_size, input_size)\n",
    "        \"\"\"\n",
    "\n",
    "        assert x.shape[-1] == self.input_size, f\"Input shape is incorrect. Got {x.shape[-1]}, expected {self.input_size}\"\n",
    "        assert self.num_subvectors * self.num_slots * self.permute_block_size == self.input_size, f\"Inconsistent metrics!\"\n",
    "\n",
    "        x = x.reshape(x.shape[0], self.num_subvectors, self.num_slots, self.permute_block_size) # first dimension must be the batch size\n",
    "\n",
    "        xpos = jnp.einsum('ij,bsjp->bsip', self.Ppos, x)\n",
    "        xneg = jnp.einsum('ij,bsjp->bsip', self.Pneg, x)\n",
    "\n",
    "        xout = xpos - xneg\n",
    "\n",
    "        xout = xout.reshape((x.shape[0], self.input_size))\n",
    "\n",
    "        return xout\n",
    "    \n",
    "# test\n",
    "per = PermuteBlock(input_size = 2048)\n",
    "y_per = per(y_acc)\n",
    "plt.imshow(y_per.reshape(-1, 256))\n",
    "print(y_per.shape)\n",
    "# print(per.acc_cores.shape)\n",
    "# print(jax.tree.map(jnp.shape, nnx.state(per, nnx.Param)))\n",
    "nnx.display(per)"
   ]
  },
  {
   "cell_type": "code",
   "execution_count": 6,
   "metadata": {},
   "outputs": [],
   "source": [
    "## trying out a simple linear block\n",
    "class LinearBlock(Block):\n",
    "    \"\"\"\n",
    "    Simple linear block to test out block module from PIC\n",
    "    \"\"\"\n",
    "\n",
    "    def __init__(self, in_size, out_size, rng):\n",
    "        self.in_size = in_size\n",
    "        self.out_size = out_size\n",
    "        self.kernel = nnx.Param(jax.random.normal(rng, (out_size, in_size)))\n",
    "        self.bias = nnx.Param(jax.random.normal(rng, (out_size,)))\n",
    "\n",
    "    def get_latency(self):\n",
    "        return -1\n",
    "    \n",
    "    def get_energy(self):\n",
    "        return -1\n",
    "    \n",
    "    def get_operations(self):\n",
    "        return -1\n",
    "    \n",
    "    def __call__(self, x):\n",
    "        return jnp.einsum('ij,j->i', self.kernel, x) + self.bias\n",
    "    \n",
    "lin1 = LinearBlock(10, 5, jax.random.key(1))\n"
   ]
  },
  {
   "cell_type": "code",
   "execution_count": 10,
   "metadata": {},
   "outputs": [
    {
     "name": "stdout",
     "output_type": "stream",
     "text": [
      "(10, 2048)\n"
     ]
    },
    {
     "data": {
      "text/plain": [
       "<matplotlib.image.AxesImage at 0x318a73e60>"
      ]
     },
     "execution_count": 10,
     "metadata": {},
     "output_type": "execute_result"
    },
    {
     "data": {
      "image/png": "[encoded data removed]",
      "text/plain": [
       "<Figure size 400x500 with 1 Axes>"
      ]
     },
     "metadata": {},
     "output_type": "display_data"
    }
   ],
   "source": [
    "class EICLinear(nnx.Module):\n",
    "    \"\"\"\n",
    "    Consolidated EICLinear block\n",
    "    \"\"\"\n",
    "\n",
    "    def __init__(self,\n",
    "                 in_size: int, # size of input layer\n",
    "                 out_size: int, # size of the output layer\n",
    "                 eic_activation_fn: Callable, # EICDense activation function\n",
    "                 acc_activation_fn: Callable, # Accumulator activation function\n",
    "                 key: jax.random.key, # PRNG key\n",
    "                 threshold: float = 0.0, # threshold for binary activation\n",
    "                 noise_sd: float = 0.05 # standard deviation of noise for binary activation \n",
    "                 ):\n",
    "        self.in_size = in_size\n",
    "        self.out_size = out_size\n",
    "        self.eic_activation_fn = eic_activation_fn\n",
    "        self.acc_activation_fn = acc_activation_fn\n",
    "        self.key = key\n",
    "        self.threshold = threshold\n",
    "        self.noise_sd = noise_sd\n",
    "\n",
    "        # self.in_blocks = self.in_size//256\n",
    "        # self.out_blocks = self.out_size//256\n",
    "\n",
    "        # define the three blocks\n",
    "        key, subkey = jax.random.split(self.key)\n",
    "        self.eic_dense = EICDense(self.in_size, self.out_size, key)\n",
    "        key, subkey = jax.random.split(key)\n",
    "        self.accumulator = Accumulator(self.out_size, subkey)\n",
    "        key, subkey = jax.random.split(key)\n",
    "        self.permute = PermuteBlock(self.in_size)\n",
    "        \n",
    "    def __call__(self, x):\n",
    "        \"\"\"\n",
    "        Forward pass of EICLinear block.\n",
    "        Order of operations: input (x) -> PermuteBlock -> EICDense -> Accumulator \n",
    "        Ensure that:\n",
    "          - before arriving to this module, there is a conv layer -> PermuteBlock. Otherwise, before the first layer add a PermuteBlock\n",
    "        Args:\n",
    "         - x: jax.Array, input vector, typically flattened image etc.\n",
    "        Returns:\n",
    "            - x: jax.Array, output of the EICLinear block\n",
    "        \"\"\"\n",
    "\n",
    "        x = self.permute(x)\n",
    "        x = self.eic_dense(x)\n",
    "        key, subkey = jax.random.split(self.key)\n",
    "        x = self.eic_activation_fn(x, threshold = self.threshold, noise_sd = self.noise_sd, key = subkey)\n",
    "        x = self.accumulator(x)\n",
    "        key, subkey = jax.random.split(key)\n",
    "        x = self.acc_activation_fn(x, threshold = self.threshold, noise_sd = self.noise_sd, key = subkey)\n",
    "\n",
    "        return x\n",
    "        \n",
    "# test\n",
    "key = jax.random.key(123124)\n",
    "eic_lin = EICLinear(in_size = 1024, out_size = 2048, eic_activation_fn = binary_ste, acc_activation_fn = binary_ste, key = key)\n",
    "x = jax.random.normal(key, (10, 1024))*0.001\n",
    "y = eic_lin(x)\n",
    "print(y.shape)\n",
    "plt.matshow(y.reshape(-1, 128))\n"
   ]
  },
  {
   "cell_type": "markdown",
   "metadata": {},
   "source": [
    "## Pilot `EICNetwork` Module"
   ]
  },
  {
   "cell_type": "code",
   "execution_count": 132,
   "metadata": {},
   "outputs": [],
   "source": [
    "class EICNetwork(Block):\n",
    "    \"\"\"\n",
    "    - Contains the current best, EIC-mappable architecture for the network.\n",
    "    - For independent training of block, the first layer is asomed to be a usual conv layer. This can for example, be replaced with the PIC-end input.\n",
    "    - Note that I'm including custom functions for linear, relu and sigmoid. They keep the same signature as the binary_ste function.\n",
    "    - In case the binary stochastic activation implemented with binary_ste fails to train, we can use sigmoid for now and later replace it with a custom activation function.\n",
    "    - The EICNetwork is a sequence of EICLinear blocks.\n",
    "\n",
    "    * Architecture:\n",
    "    - Pseudo-Feedforward layer: Mathematical approximation of a feedforward layer implemented using constraints of the EIC core.\n",
    "    - Initial conv + avg pool takes (batch_size, 32, 32, 1) image and converts it to (batch_size, 16, 16, 1) tensor which is then resized to (batch_size, 256).\n",
    "    - Layer sizes: 256 -> 2048 -> 512 -> 256 (10).\n",
    "    - NOTE: This architecture is a bit different on the input layer (excel sheet has 1024) because I absorbed the 1024 in conv layer just for reference to NN2. This only changes throughput.\n",
    "    - Activation: Binary with gradient clipping straight-through estimator. In case of low performance, we might tweak the STE.\n",
    "    \"\"\"\n",
    "\n",
    "    @staticmethod\n",
    "    def linear_activation(x, threshold = None, noise_sd = None, key = None):\n",
    "        return x\n",
    "    \n",
    "    @staticmethod\n",
    "    def relu_activation(x, threshold = None, noise_sd = None, key = None):\n",
    "        \"\"\"\n",
    "        In case the binary activation doesn't work, we can use a ReLU activation\n",
    "        \"\"\"\n",
    "        return jax.nn.relu(x)\n",
    "    \n",
    "    @staticmethod\n",
    "    def sigmoid_activation(x, threshold = None, noise_sd = None, key = None):\n",
    "        \"\"\"\n",
    "        In case the binary activation doesn't work, we can use a sigmoid activation\n",
    "        \"\"\"\n",
    "        return jax.nn.sigmoid(x)\n",
    "\n",
    "    def __init__(self, \n",
    "                layer_sizes: list, # list of feedforward layer sizes e.g. [1024, 2048, 512, 256]\n",
    "                eic_activation_fn: Callable, # EICDense activation function\n",
    "                acc_activation_fn: Callable, # Accumulator activation function\n",
    "                key: jax.random.key, # PRNG key\n",
    "                chip_params: dict = None # dictionary of chip parameters\n",
    "                ):\n",
    "        \n",
    "        \"\"\"\n",
    "        Args:\n",
    "        - layer_sizes: list, list of feedforward layer sizes e.g. [1024, 2048, 512, 256]\n",
    "        - eic_activation_fn: Callable, EICDense activation function\n",
    "        - acc_activation_fn: Callable, Accumulator activation function\n",
    "        - key: jax.random.key, PRNG key\n",
    "        - chip_params: dict, dictionary of chip parameters\n",
    "        \"\"\"\n",
    "        \n",
    "        self.layer_sizes = layer_sizes\n",
    "        self.eic_activation_fn = eic_activation_fn\n",
    "        self.acc_activation_fn = acc_activation_fn\n",
    "        self.key = key\n",
    "        self.chip_params = chip_params\n",
    "\n",
    "        # define the layers\n",
    "        self.first_layers = [EICLinear(in_size = in_size, \n",
    "                                 out_size = out_size, \n",
    "                                 eic_activation_fn = self.eic_activation_fn, \n",
    "                                 acc_activation_fn = self.acc_activation_fn, \n",
    "                                 key = self.key) \n",
    "                                 for in_size, out_size in zip(self.layer_sizes[:-1], self.layer_sizes[1:-1])]\n",
    "        \n",
    "        self.last_layer = EICLinear(\n",
    "            in_size = self.layer_sizes[-2],\n",
    "            out_size = self.layer_sizes[-1],\n",
    "            eic_activation_fn = self.eic_activation_fn,\n",
    "            acc_activation_fn = self.linear_activation,\n",
    "            key = self.key\n",
    "        )\n",
    "\n",
    "        self.conv = nnx.Conv(in_features=1, out_features=1, kernel_size=(3,3), strides=1, padding=1, rngs=nnx.Rngs(params=1134, dropout=78978))\n",
    "\n",
    "    def __call__(self, x: jax.Array) -> jax.Array:\n",
    "        \"\"\"\n",
    "        Forward pass of the EICNetwork.\n",
    "        Order of operations: Conv -> AvgPool -> EICLinear layers\n",
    "        Args:\n",
    "            - x: jax.Array, input vector, typically flattened image etc.\n",
    "        Returns:\n",
    "            - x: jax.Array, output of the EICNetwork\n",
    "        \"\"\"\n",
    "\n",
    "        # Resize input to (batch_size, 32, 32, 1): emulating the 1024-long input that we anticipate\n",
    "        x = jax.image.resize(x, shape=(x.shape[0], 32, 32, 1), method=\"bilinear\")\n",
    "        print(x.shape)\n",
    "\n",
    "        # Apply dummy convolution and average pooling\n",
    "        x = self.conv(x)\n",
    "        x = nnx.avg_pool(x, window_shape=(2, 2), strides=(2, 2), padding='VALID') \n",
    "        \n",
    "        # Flatten the output to match the input size of the first linear layer\n",
    "        x = x.reshape(x.shape[0], -1)\n",
    "\n",
    "        print(x.shape)\n",
    "\n",
    "        # apply EIC layers\n",
    "        for layer in self.first_layers:\n",
    "            x = layer(x)\n",
    "\n",
    "        x = self.last_layer(x)           \n",
    "        \n",
    "        return x\n",
    "    \n",
    "    def get_num_cores(self):\n",
    "        layers = self.layer_sizes\n",
    "\n",
    "        # compute number of cores needed\n",
    "        cores_per_param = [max(l1//256, 1) * max(l2//256, 1) for l1, l2 in zip(layers[:-1], layers[1:])]\n",
    "        dense_cores = sum(cores_per_param)\n",
    "        acc_cores = [max(l2//256, 1) for l2 in layers[1:]]\n",
    "        acc_cores = sum(acc_cores)\n",
    "\n",
    "        tot_cores = dense_cores + acc_cores # store this is return parameters\n",
    "\n",
    "        # same a secondary metrics list\n",
    "        size_metrics = {\n",
    "            'dense_cores': dense_cores,\n",
    "            'accumulator_cores': acc_cores,\n",
    "            'total_cores': tot_cores,\n",
    "        }\n",
    "\n",
    "        return size_metrics\n",
    "\n",
    "\n",
    "    def get_latency(self):\n",
    "        \"\"\"\n",
    "        Returns latency of the EIC network in ns\n",
    "        Requires the chip parameters to be defined in the chip_params dictionary.\n",
    "        \"\"\"\n",
    "\n",
    "        # duration_per_inference = 4.13e-8 # s\n",
    "        num_layers = len(self.layer_sizes) # number of layers in the network\n",
    "        # print(f\"Number of layers: {num_layers}\")\n",
    "        latency = (chip_params['duration_per_inference'] * (1 + num_layers))*1e9\n",
    "        print(f\"Latency in ns: {latency}\")\n",
    "        return latency\n",
    "    \n",
    "    def get_energy(self):\n",
    "        \"\"\"\n",
    "        Estimates the energy consumption of the proposed network in TOP/J\n",
    "        Requires the chip parameters to be defined in the chip_params dictionary.\n",
    "        \"\"\"\n",
    "        num_cores = self.get_num_cores()\n",
    "        num_cores = num_cores['total_cores']\n",
    "        col_ops_per_inference = num_cores * chip_params['rram_num_cols']\n",
    "        energy_per_inference = col_ops_per_inference * (chip_params['rram_energy_per_col_op'] + chip_params['ctrl_energy_per_col_op'] + chip_params['comparator_energy_per_col_op'] + chip_params['bus_energy_per_col_op']) + chip_params['sram_static_power']*chip_params['duration_per_inference']\n",
    "        ops_per_inference = col_ops_per_inference*chip_params['rram_num_rows']\n",
    "        # print(f\"Ops per inference: {ops_per_inference}\")\n",
    "        energy = (energy_per_inference*1e3)/ops_per_inference * 1e12 # TOP/J\n",
    "        print(f\"Energy in TOP/J: {energy}\")\n",
    "        return energy\n",
    "    \n",
    "    def get_operations(self):\n",
    "        \"\"\"\n",
    "        Returns throughput in TOPS/s\n",
    "        Requires the chip parameters to be defined in the chip_params dictionary.\n",
    "        \"\"\"\n",
    "        num_cores = self.get_num_cores()\n",
    "        num_cores = num_cores['total_cores']\n",
    "        # print(f\"Number of cores: {num_cores}\")\n",
    "        col_ops_per_inference = num_cores * chip_params['rram_num_cols']\n",
    "        ops_per_inference = col_ops_per_inference*chip_params['rram_num_rows']\n",
    "        # print(f\"Operations per inference: {ops_per_inference}\")\n",
    "        duration_per_inference = chip_params['duration_per_inference']\n",
    "        throughput = ops_per_inference/duration_per_inference * 1e-12 # TOPS/s\n",
    "        print(f\"Throughput in TOPS/s: {throughput}\")\n",
    "        return throughput"
   ]
  },
  {
   "cell_type": "code",
   "execution_count": 133,
   "metadata": {},
   "outputs": [
    {
     "name": "stdout",
     "output_type": "stream",
     "text": [
      "(10, 32, 32, 1)\n",
      "(10, 256)\n",
      "(10, 256)\n",
      "[[355.32996 357.4664    0.      ...   0.      177.14598 178.0308 ]\n",
      " [177.66498 178.7332  355.33353 ... 177.8121  177.14598 178.0308 ]\n",
      " [177.66498 178.7332  177.66676 ... 355.6242  354.29196 356.0616 ]\n",
      " ...\n",
      " [355.32996   0.        0.      ...   0.      177.14598 356.0616 ]\n",
      " [355.32996   0.      177.66676 ... 355.6242  354.29196   0.     ]\n",
      " [  0.        0.      177.66676 ... 355.6242  177.14598 356.0616 ]]\n"
     ]
    },
    {
     "data": {
      "text/plain": [
       "<matplotlib.colorbar.Colorbar at 0x149e6a330>"
      ]
     },
     "execution_count": 133,
     "metadata": {},
     "output_type": "execute_result"
    },
    {
     "data": {
      "image/png": "[encoded data removed]",
      "text/plain": [
       "<Figure size 640x480 with 2 Axes>"
      ]
     },
     "metadata": {},
     "output_type": "display_data"
    }
   ],
   "source": [
    "im_ = jnp.ones((10, 28, 28, 1))\n",
    "eic_net = EICNetwork(layer_sizes = [256, 2048, 512, 256], eic_activation_fn = binary_ste, acc_activation_fn = binary_ste, key = key, chip_params = chip_params)\n",
    "out_ = eic_net(im_)\n",
    "print(out_.shape)\n",
    "print(out_)\n",
    "plt.imshow(out_.reshape(-1, 32))\n",
    "plt.colorbar()"
   ]
  },
  {
   "cell_type": "code",
   "execution_count": 134,
   "metadata": {},
   "outputs": [
    {
     "name": "stdout",
     "output_type": "stream",
     "text": [
      "Latency in ns: 206.25\n",
      "Energy in TOP/J: 9.524303807439031\n",
      "Throughput in TOPS/s: 58.783806060606054\n"
     ]
    }
   ],
   "source": [
    "lat = eic_net.__getitem__(\"latency\")\n",
    "ene = eic_net.__getitem__(\"energy\")\n",
    "thr = eic_net.__getitem__(\"operations\")\n"
   ]
  },
  {
   "cell_type": "code",
   "execution_count": 82,
   "metadata": {},
   "outputs": [
    {
     "data": {
      "text/plain": [
       "20.65"
      ]
     },
     "execution_count": 82,
     "metadata": {},
     "output_type": "execute_result"
    }
   ],
   "source": [
    "4.13 * 5"
   ]
  },
  {
   "cell_type": "markdown",
   "metadata": {},
   "source": [
    "## Chip parameters dictionary"
   ]
  },
  {
   "cell_type": "code",
   "execution_count": 110,
   "metadata": {},
   "outputs": [
    {
     "name": "stdout",
     "output_type": "stream",
     "text": [
      "rram energy per col op: 1.28e-12 J\n",
      "duraion per inference: 4.125e-08 s\n"
     ]
    }
   ],
   "source": [
    "rram_r_min = 2.50e4  # Ohm\n",
    "rram_v_in = 0.1  # V\n",
    "rram_num_rows = 256\n",
    "rram_num_cols = 256\n",
    "rram_t = 1.25e-9  # s\n",
    "rram_energy_per_col_op = rram_v_in/(rram_r_min/rram_num_cols)*rram_t #J\n",
    "ctrl_energy_per_col_op = 6.14e-14 #J\n",
    "comparator_energy_per_col_op = 7.68e-14 #J\n",
    "bus_energy_per_col_op = 1.02e-12 #J\n",
    "sram_static_power = 5e-6 #W\n",
    "cycles_per_inference = 8 * 4 + 1\n",
    "clk_period = 1.25e-9\n",
    "duration_per_inference = cycles_per_inference * clk_period\n",
    "bits_from_pic = 1024 # assumption\n",
    "total_eic_cores = 64 # subjcet to change\n",
    "\n",
    "\n",
    "print(f\"rram energy per col op: {rram_energy_per_col_op} J\")\n",
    "print(f\"duraion per inference: {duration_per_inference} s\")\n",
    "\n"
   ]
  },
  {
   "cell_type": "code",
   "execution_count": 111,
   "metadata": {},
   "outputs": [],
   "source": [
    "chip_params = {\n",
    "    'rram_r_min': rram_r_min,  # Ohm\n",
    "    'rram_v_in': rram_v_in,  # V\n",
    "    'rram_num_rows': rram_num_rows,\n",
    "    'rram_num_cols': rram_num_cols,\n",
    "    'rram_t': rram_t,  # s\n",
    "    'rram_energy_per_col_op': rram_energy_per_col_op,  # J\n",
    "    'ctrl_energy_per_col_op': ctrl_energy_per_col_op,  # J\n",
    "    'comparator_energy_per_col_op': comparator_energy_per_col_op,  # J\n",
    "    'bus_energy_per_col_op': bus_energy_per_col_op,  # J\n",
    "    'sram_static_power': sram_static_power,  # W\n",
    "    'cycles_per_inference': cycles_per_inference,\n",
    "    'clk_period': clk_period,\n",
    "    'duration_per_inference': duration_per_inference,  # s\n",
    "    'bits_from_pic': bits_from_pic,  # assumption\n",
    "    'total_eic_cores': total_eic_cores  # subject to change\n",
    "}\n",
    "\n",
    "# print(chip_params)\n",
    "\n",
    "# with open('chip_params.json', 'w') as file:\n",
    "#     json.dump(chip_params, file)\n"
   ]
  },
  {
   "cell_type": "markdown",
   "metadata": {},
   "source": [
    "# random Testing"
   ]
  },
  {
   "cell_type": "code",
   "execution_count": 63,
   "metadata": {},
   "outputs": [
    {
     "name": "stdout",
     "output_type": "stream",
     "text": [
      "(10, 18, 18, 1)\n"
     ]
    }
   ],
   "source": [
    "im_ = jnp.ones((10, 32, 32, 1))\n",
    "c = nnx.Conv(in_features = 1, out_features = 1, kernel_size = (4,4), strides = 2, padding = 3, rngs = nnx.Rngs(params = 1))\n",
    "im_ = c(im_)\n",
    "im_ = nnx.avg_pool(im_, window_shape = (2, 2), strides = (1, 1), padding = 'SAME')\n",
    "print(im_.shape)"
   ]
  },
  {
   "cell_type": "code",
   "execution_count": 39,
   "metadata": {},
   "outputs": [
    {
     "name": "stdout",
     "output_type": "stream",
     "text": [
      "[(1024, 2048), (2048, 512)]\n"
     ]
    }
   ],
   "source": [
    "ll = [1024, 2048, 512, 256]\n",
    "\n",
    "siz = [(lo, li) for lo, li in zip(ll[:-1], ll[1:-1])]\n",
    "print(siz)"
   ]
  },
  {
   "cell_type": "code",
   "execution_count": 67,
   "metadata": {},
   "outputs": [
    {
     "name": "stdout",
     "output_type": "stream",
     "text": [
      "(10, 16, 16, 1)\n"
     ]
    }
   ],
   "source": [
    "im_ = jnp.ones((10, 32, 32, 1))\n",
    "c2 = nnx.Conv(in_features=1, out_features=1, kernel_size=(3,3), strides=1, padding=1, rngs=nnx.Rngs(params=1))\n",
    "\n",
    "im2 = c2(im_)\n",
    "\n",
    "# Now downsample using avg pooling\n",
    "im2 = nnx.avg_pool(im2, window_shape=(2, 2), strides=(2, 2), padding='VALID') \n",
    "\n",
    "print(im2.shape)"
   ]
  },
  {
   "cell_type": "code",
   "execution_count": null,
   "metadata": {},
   "outputs": [],
   "source": []
  }
 ],
 "metadata": {
  "kernelspec": {
   "display_name": "jax_env",
   "language": "python",
   "name": "python3"
  },
  "language_info": {
   "codemirror_mode": {
    "name": "ipython",
    "version": 3
   },
   "file_extension": ".py",
   "mimetype": "text/x-python",
   "name": "python",
   "nbconvert_exporter": "python",
   "pygments_lexer": "ipython3",
   "version": "3.12.2"
  }
 },
 "nbformat": 4,
 "nbformat_minor": 2
}
