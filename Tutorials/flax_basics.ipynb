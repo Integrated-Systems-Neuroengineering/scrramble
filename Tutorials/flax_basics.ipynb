{
 "cells": [
  {
   "cell_type": "markdown",
   "metadata": {},
   "source": [
    "# Goals of the notebook\n",
    "- Get familirized with flax.\n",
    "- Be able to instantiate modules with activations given by a non-linearity\n",
    "- trying to train MNIST using this setup\n",
    "  "
   ]
  },
  {
   "cell_type": "code",
   "execution_count": 2,
   "metadata": {},
   "outputs": [],
   "source": [
    "import jax\n",
    "import jax.numpy as jnp\n",
    "import flax\n",
    "from flax import linen as nn\n",
    "from flax import nnx\n",
    "import optax\n",
    "import matplotlib.pyplot as plt\n",
    "import seaborn as sns\n",
    "import tensorflow as tf\n",
    "import tensorflow_datasets as tfds\n",
    "from tqdm.notebook import tqdm\n",
    "from collections import defaultdict\n",
    "\n",
    "plt.rcParams['font.family'] = 'sans-serif'\n",
    "plt.rcParams['font.sans-serif'] = 'Arial'\n"
   ]
  },
  {
   "cell_type": "code",
   "execution_count": 3,
   "metadata": {},
   "outputs": [],
   "source": [
    "## define the activation and custom gradients\n",
    "\n",
    "def ternary_activation(x, thresholds, noise_sd, key = jax.random.key(0)):\n",
    "    \"\"\"\n",
    "    Ternary activation function\n",
    "    \"\"\"\n",
    "    key, key2 = jax.random.split(key, 2)\n",
    "\n",
    "    # generate noise\n",
    "    noise = jax.random.normal(key = key2, shape = x.shape) * noise_sd\n",
    "\n",
    "    # inject noise\n",
    "    x = x + noise\n",
    "\n",
    "\n",
    "    # threshold\n",
    "    t1, t2 = thresholds\n",
    "    s = jnp.where(\n",
    "        x < t1, -1.0,\n",
    "        jnp.where(\n",
    "            x > t2, 1.0,\n",
    "            0.0\n",
    "        )\n",
    "    )\n",
    "\n",
    "    return s\n",
    "\n",
    "## helper function\n",
    "@jax.jit\n",
    "def gaussian_cdf(x, mu, sigma):\n",
    "    return jax.scipy.stats.norm.cdf(x, loc = mu, scale = sigma)\n",
    "\n",
    "@jax.jit\n",
    "def gaussian_pdf(x, mu, sigma):\n",
    "    return jax.scipy.stats.norm.pdf(x, loc = mu, scale = sigma)\n",
    "\n",
    "@jax.jit\n",
    "def expected_state(x, thresholds, noise_sd):\n",
    "    t1, t2 = thresholds\n",
    "    e = ((1 - gaussian_cdf(x = t2 - x, mu = 0, sigma = noise_sd)) - gaussian_cdf(x = t1 - x, mu = 0, sigma = noise_sd))\n",
    "    return e\n",
    "\n",
    "# custom gradients\n",
    "@jax.custom_vjp\n",
    "def custom_ternary_gradient(x, thresholds, noise_sd):\n",
    "    return ternary_activation(x = x, thresholds = thresholds, noise_sd = noise_sd) # call the ternary activation in the forward pass\n",
    "\n",
    "def custom_ternary_gradient_fwd(x, thresholds, noise_sd):\n",
    "    return custom_ternary_gradient(x, thresholds, noise_sd), (x, thresholds, noise_sd) # save the inputs, thresholds, noise_sd for the backward pass\n",
    "\n",
    "def custom_ternary_gradients_bwd(residuals, grads):\n",
    "    x, thresholds, noise_sd = residuals # unpack the residuals from forward pass\n",
    "    t1, t2 = thresholds\n",
    "    exp_state_grad = gaussian_pdf(x = t1 - x, mu = 0, sigma = noise_sd) + gaussian_pdf(x = t2 - x, mu = 0, sigma = noise_sd)\n",
    "    return (exp_state_grad*grads, None, None)\n",
    "\n",
    "custom_ternary_gradient.defvjp(custom_ternary_gradient_fwd, custom_ternary_gradients_bwd)"
   ]
  },
  {
   "cell_type": "code",
   "execution_count": null,
   "metadata": {},
   "outputs": [],
   "source": []
  }
 ],
 "metadata": {
  "kernelspec": {
   "display_name": "jax_env",
   "language": "python",
   "name": "python3"
  },
  "language_info": {
   "codemirror_mode": {
    "name": "ipython",
    "version": 3
   },
   "file_extension": ".py",
   "mimetype": "text/x-python",
   "name": "python",
   "nbconvert_exporter": "python",
   "pygments_lexer": "ipython3",
   "version": "3.12.2"
  }
 },
 "nbformat": 4,
 "nbformat_minor": 2
}
