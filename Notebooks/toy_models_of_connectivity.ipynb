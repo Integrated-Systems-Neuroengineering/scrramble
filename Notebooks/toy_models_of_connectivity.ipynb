{
 "cells": [
  {
   "cell_type": "markdown",
   "metadata": {},
   "source": [
    "# Developing scripts to test different connectivity schemes"
   ]
  },
  {
   "cell_type": "code",
   "execution_count": 6,
   "metadata": {},
   "outputs": [],
   "source": [
    "import jax\n",
    "import math\n",
    "import jax.numpy as jnp\n",
    "import optax\n",
    "import flax\n",
    "from flax import nnx\n",
    "from flax.nnx.nn import initializers\n",
    "from typing import Callable\n",
    "import orbax.checkpoint as ocp\n",
    "import json\n",
    "import os\n",
    "import pickle\n",
    "import numpy as np\n",
    "from collections import defaultdict\n",
    "\n",
    "# from PseudoMLP import PseudoMLP\n",
    "from utils import clipping_ste\n",
    "\n",
    "import tensorflow_datasets as tfds  # TFDS to download MNIST.\n",
    "import tensorflow as tf  # TensorFlow / `tf.data` operations.\n",
    "\n",
    "import matplotlib.pyplot as plt\n",
    "from matplotlib.colors import ListedColormap, BoundaryNorm\n",
    "from matplotlib.cm import get_cmap\n",
    "import seaborn as sns"
   ]
  },
  {
   "cell_type": "code",
   "execution_count": 13,
   "metadata": {},
   "outputs": [],
   "source": [
    "# define a function to return a tensor with connectivity constraints\n",
    "def intercore_connectivity(\n",
    "    input_cores: int,\n",
    "    output_cores: int,\n",
    "    slots_per_core: int,\n",
    "    avg_slot_connectivity: int,\n",
    "    key: jax.random.key,\n",
    "    ):\n",
    "\n",
    "    \"\"\"\n",
    "    Returns a tensor C with shape (input_cores, total_input_slots, output_cores, total_output_slots).\n",
    "    C[ci, si, co, so] can be [-2, -1, 0, 1, 2].\n",
    "    1: connection to positive slots\n",
    "    -1: connection to negative slots\n",
    "    0: no connection\n",
    "    -2: rare but repeated connection to negative slot\n",
    "    2: rare but repeated connection to positive slot\n",
    "    \"\"\"\n",
    "\n",
    "    # define the constants\n",
    "    total_input_slots = input_cores * slots_per_core\n",
    "    total_output_slots = output_cores * slots_per_core\n",
    "\n",
    "    # define the lists of (core, slot) tuples\n",
    "    Li = [(ci, si) for ci in range(input_cores) for si in range(slots_per_core)]\n",
    "    Lo = [(co, so) for co in range(output_cores) for so in range(slots_per_core)]\n",
    "    assert len(Li) == total_input_slots, \"Incorrect number of input slots, check input_cores and slots_per_core values\"\n",
    "    assert len(Lo) == total_output_slots, \"Incorrect number of output slots, check output_cores and slots_per_core values\"\n",
    "    \n",
    "    # print(Li)\n",
    "    # print(Lo)\n",
    "\n",
    "    # define the positive and negative mapping dicts\n",
    "    pos_mapping = defaultdict(list)\n",
    "    neg_mapping = defaultdict(list)\n",
    "\n",
    "    # construct the positive mapping\n",
    "    for (co, so) in Lo:\n",
    "        \n",
    "\n",
    "        # pick a random number of slots it can receive input from\n",
    "        key, subkey = jax.random.split(key)\n",
    "        beta = jax.random.poisson(key=key, lam=avg_slot_connectivity)\n",
    "\n",
    "        # pick random slots from Li\n",
    "        key, subkey = jax.random.split(key)\n",
    "        idx = jax.random.choice(key=key, a=len(Li), shape=(beta,), replace=True) # allow for repeated connections\n",
    "        connections = [Li[i] for i in idx]\n",
    "        if beta > 0:\n",
    "            pos_mapping[(co, so)] = connections\n",
    "        else:\n",
    "            pos_mapping[(co, so)] = []\n",
    "\n",
    "\n",
    "    print(f\"Positive mapping: {pos_mapping}\")\n",
    "\n",
    "    # construct the negative mapping\n",
    "    for k, v in pos_mapping.items():\n",
    "        (co, so) = k\n",
    "        # check if there are any connections\n",
    "        if len(v) == 0:\n",
    "            continue\n",
    "        else:\n",
    "            # print(v, len(v))\n",
    "            for ti in v:\n",
    "                # print(ti)\n",
    "                # choose some slots where negative connections can be made\n",
    "                key, subkey = jax.random.split(key)\n",
    "                gamma = jax.random.choice(key=key, a=slots_per_core, shape=(1,), replace=True)[0].item()\n",
    "                neg_mapping[ti].append((co, gamma))\n",
    "\n",
    "    print(f\"Negative mapping: {neg_mapping}\")\n",
    "\n",
    "    # construct the tensor for positive mappings\n",
    "    C = jnp.zeros((input_cores, slots_per_core, output_cores, slots_per_core))\n",
    "\n",
    "    for k, v in pos_mapping.items():\n",
    "        (co, so) = k\n",
    "\n",
    "        for ti in v:\n",
    "            (ci, si) = ti\n",
    "            C = C.at[ci, si, co, so].add(1)\n",
    "\n",
    "    # construct the tensor for negative mappings\n",
    "    for k, v in neg_mapping.items():\n",
    "        (ci, si) = k\n",
    "\n",
    "        if len(v) == 0:\n",
    "            print(f\"zero -ve mappings from core {k}\")\n",
    "            continue\n",
    "        else:\n",
    "            for to in v:\n",
    "                (co, so) = to\n",
    "                C = C.at[ci, si, co, so].add(-1)\n",
    "\n",
    "    return C\n",
    "\n",
    "\n"
   ]
  },
  {
   "cell_type": "code",
   "execution_count": 39,
   "metadata": {},
   "outputs": [
    {
     "name": "stdout",
     "output_type": "stream",
     "text": [
      "Positive mapping: defaultdict(<class 'list'>, {(0, 0): [(2, 2), (3, 3), (0, 2), (0, 2), (2, 2)], (0, 1): [(0, 1), (2, 2), (3, 3), (2, 1), (2, 2)], (0, 2): [(1, 2), (0, 2), (1, 0), (3, 1), (2, 0)], (0, 3): [(2, 0), (2, 3), (3, 2)], (1, 0): [(3, 0), (0, 1), (2, 3)], (1, 1): [(3, 3), (1, 1), (0, 2)], (1, 2): [(0, 3), (2, 3)], (1, 3): [(3, 0), (0, 3), (0, 2), (0, 1)], (2, 0): [(0, 2), (0, 0), (0, 3), (2, 1), (0, 1)], (2, 1): [(0, 1), (2, 0), (2, 0), (0, 3), (1, 1)], (2, 2): [(2, 3), (1, 1), (1, 0), (1, 1)], (2, 3): [(2, 3), (1, 2), (1, 2), (3, 3)], (3, 0): [(1, 2), (3, 3)], (3, 1): [(1, 2), (0, 1), (2, 0), (3, 0), (3, 0), (3, 2)], (3, 2): [(0, 2), (1, 0), (0, 3), (3, 0), (3, 0), (3, 0)], (3, 3): [(1, 2), (0, 3), (2, 0), (0, 1), (3, 3), (2, 0)], (4, 0): [(1, 0), (1, 1), (2, 3), (1, 2), (2, 1)], (4, 1): [(1, 0), (3, 3), (2, 2), (2, 3), (3, 2)], (4, 2): [(2, 1), (3, 2), (2, 1), (2, 3)], (4, 3): [(2, 2), (2, 2), (3, 0), (2, 0)]})\n",
      "Negative mapping: defaultdict(<class 'list'>, {(2, 2): [(0, 3), (0, 3), (0, 2), (0, 3), (4, 0), (4, 1), (4, 3)], (3, 3): [(0, 2), (0, 1), (1, 1), (2, 3), (3, 2), (3, 3), (4, 1)], (0, 2): [(0, 0), (0, 1), (0, 0), (1, 3), (1, 1), (2, 1), (3, 1)], (0, 1): [(0, 2), (1, 3), (1, 0), (2, 0), (2, 0), (3, 3), (3, 0)], (2, 1): [(0, 0), (2, 1), (4, 0), (4, 2), (4, 2)], (1, 2): [(0, 1), (2, 2), (2, 0), (3, 0), (3, 2), (3, 2), (4, 2)], (1, 0): [(0, 2), (2, 1), (3, 3), (4, 3), (4, 0)], (3, 1): [(0, 2)], (2, 0): [(0, 1), (0, 1), (2, 0), (2, 3), (3, 2), (3, 3), (3, 3), (4, 3)], (2, 3): [(0, 3), (1, 1), (1, 3), (2, 3), (2, 1), (4, 1), (4, 1), (4, 0)], (3, 2): [(0, 2), (3, 2), (4, 0), (4, 1)], (3, 0): [(1, 3), (1, 1), (3, 2), (3, 2), (3, 1), (3, 3), (3, 2), (4, 1)], (1, 1): [(1, 2), (2, 0), (2, 3), (2, 1), (4, 1)], (0, 3): [(1, 3), (1, 1), (2, 3), (2, 0), (3, 0), (3, 0)], (0, 0): [(2, 1)]})\n"
     ]
    },
    {
     "data": {
      "image/png": "[encoded data removed]",
      "text/plain": [
       "<Figure size 550x550 with 2 Axes>"
      ]
     },
     "metadata": {},
     "output_type": "display_data"
    }
   ],
   "source": [
    "key = jax.random.key(20)\n",
    "key, subkey = jax.random.split(key)\n",
    "test_run = intercore_connectivity(input_cores = 4, output_cores = 5, slots_per_core = 4, avg_slot_connectivity=4, key=key)\n",
    "\n",
    "# plotting\n",
    "data = test_run.reshape(4*4, 5*4)\n",
    "\n",
    "# Define the discrete values and boundaries\n",
    "values = np.array([-2, -1, 0, 1, 2])\n",
    "bounds = np.array([-2.5, -1.5, -0.5, 0.5, 1.5, 2.5])  # Boundaries for the colormap\n",
    "\n",
    "# Create a colormap with 5 colors from the coolwarm colormap\n",
    "base_cmap = plt.colormaps['coolwarm']\n",
    "colors = base_cmap(np.linspace(0, 1, 5))\n",
    "cmap = ListedColormap(colors)\n",
    "\n",
    "# Create a norm to map the data values to colormap indices\n",
    "norm = BoundaryNorm(bounds, cmap.N)\n",
    "\n",
    "# Create the plot\n",
    "fig, ax = plt.subplots(figsize=(5, 5), dpi=110)\n",
    "ax.set_title(r\"$C_{ijkl}$\")\n",
    "im = ax.imshow(data, cmap=cmap, norm=norm, interpolation='nearest', origin='lower')\n",
    "\n",
    "# Add a colorbar\n",
    "cbar = plt.colorbar(im, ticks=values, shrink=0.8)\n",
    "# cbar.set_label('Connection Type')\n",
    "cbar.outline.set_visible(False)\n",
    "cbar.ax.tick_params(which='both', length=0, width=0, pad=3)\n",
    "cbar.ax.minorticks_off() \n",
    "\n",
    "# Remove the spines from the colorbar\n",
    "\n",
    "sns.despine(fig, top=True, right=True, left=True, bottom=True)\n"
   ]
  },
  {
   "cell_type": "code",
   "execution_count": null,
   "metadata": {},
   "outputs": [
    {
     "name": "stdout",
     "output_type": "stream",
     "text": [
      "balanced!\n"
     ]
    },
    {
     "data": {
      "text/plain": [
       "(array([0., 0., 5., 0., 0.]),\n",
       " array([-0.5       , -0.30000001, -0.09999999,  0.10000002,  0.30000001,\n",
       "         0.5       ]),\n",
       " <BarContainer object of 5 artists>)"
      ]
     },
     "execution_count": 23,
     "metadata": {},
     "output_type": "execute_result"
    },
    {
     "data": {
      "image/png": "[encoded data removed]",
      "text/plain": [
       "<Figure size 640x480 with 1 Axes>"
      ]
     },
     "metadata": {},
     "output_type": "display_data"
    }
   ],
   "source": [
    "def verify_connectivity(C):\n",
    "    \"\"\"\n",
    "    Verify if the connectivity matrix makes sense\n",
    "    - Each core must have equal number of positive and negative connections on an average\n",
    "    - Returs a distribution of connections per core.\n",
    "    - Distribution should be a delta zero with ideally no outliers\n",
    "    \"\"\"\n",
    "\n",
    "    assert len(C.shape) == 4, \"C must be a 4D tensor\"\n",
    "\n",
    "    balance_list = []\n",
    "\n",
    "    # check for cores taking inputs\n",
    "    for co in range(C.shape[2]):\n",
    "        conn = jnp.sum(C[:, :, co, :])\n",
    "        balance_list.append(conn)\n",
    "\n",
    "    perc = jnp.percentile(a=jnp.array(balance_list), q=95)\n",
    "    if perc == 0:\n",
    "        print(\"Balanced!\")\n",
    "    else:\n",
    "        print(\"Unbalanced\")\n",
    "\n",
    "    return balance_list\n",
    "\n",
    "\n",
    "balance_list = verify_connectivity(test_run)\n",
    "plt.hist(balance_list, bins=5)"
   ]
  },
  {
   "cell_type": "code",
   "execution_count": null,
   "metadata": {},
   "outputs": [],
   "source": []
  },
  {
   "cell_type": "code",
   "execution_count": null,
   "metadata": {},
   "outputs": [],
   "source": []
  },
  {
   "cell_type": "code",
   "execution_count": null,
   "metadata": {},
   "outputs": [],
   "source": []
  },
  {
   "cell_type": "markdown",
   "metadata": {},
   "source": [
    "# One-to-one connectivity\n",
    "\n",
    "* Every core in layer $l-1$ connects exactly to one core in layer $l$.\n",
    "* Cores in layer $l-1$ send their outputs in a chunkwise random manner to the cores in layer $l$\n",
    "* Let $x_n (s) \\in \\mathbb{R}^{P}$ be a \"chunk\" of the output present at a given slot $s$\n",
    "* Define a tensor $C \\in \\mathbb{\\{-1, 0, +1\\}}^{(i, j, s^{l-1}), (k, l, s^{l})}$ which says:\n",
    "    * If the core in layer $l-1$ at index $(i, j)$ is connected to a core in layer $l$ at index $(k, l)$ and the slot $s^{l-1}$ is connected to slot $s^l$, then\n",
    "    $$\n",
    "    C[i,j,k,l,s^{l-1}, s^l] = \n",
    "    \\begin{cases}\n",
    "    -1, \\quad x_n(s^{l}) \\in x^-, \\\\\n",
    "    +1, \\quad x_n(s^{l}) \\in x^+\n",
    "    \\end{cases}\n",
    "    $$"
   ]
  },
  {
   "cell_type": "code",
   "execution_count": 4,
   "metadata": {},
   "outputs": [
    {
     "name": "stdout",
     "output_type": "stream",
     "text": [
      "(2, 4, 16, 16)\n"
     ]
    },
    {
     "data": {
      "image/png": "[encoded data removed]",
      "text/plain": [
       "<Figure size 640x480 with 8 Axes>"
      ]
     },
     "metadata": {},
     "output_type": "display_data"
    }
   ],
   "source": [
    "# weights on the cores\n",
    "core_rows = 16\n",
    "core_cols = 16\n",
    "total_cores = 8\n",
    "num_layers = 2\n",
    "cores_per_layer = total_cores // num_layers\n",
    "\n",
    "# initialize weights on all the cores\n",
    "rngs = nnx.Rngs(params=1, activations=2, masks=3)\n",
    "initializer = flax.nnx.nn.initializers.glorot_normal()\n",
    "weights = initializer(rngs.params(), (num_layers, cores_per_layer, core_rows, core_cols))\n",
    "print(weights.shape)\n",
    "\n",
    "fig, ax = plt.subplots(weights.shape[0], weights.shape[1])\n",
    "\n",
    "for i in range(weights.shape[0]):\n",
    "    for j in range(weights.shape[1]):\n",
    "        ax[i, j].imshow(weights[i, j, ...], cmap='gray')\n",
    "        ax[i, j].set_title(f\"C{i, j}\", fontsize = 8)\n",
    "        ax[i, j].axis('off')"
   ]
  },
  {
   "cell_type": "code",
   "execution_count": null,
   "metadata": {},
   "outputs": [
    {
     "name": "stdout",
     "output_type": "stream",
     "text": [
      "[[0 1 2 3]\n",
      " [0 1 2 3]\n",
      " [0 1 2 3]\n",
      " [0 1 2 3]]\n"
     ]
    }
   ],
   "source": [
    "# scrambling but keeping balance condition\n",
    "\n",
    "class SimpleScramble(nnx.Module):\n",
    "    def __init__(\n",
    "        self,\n",
    "        input_length: int,\n",
    "        core_length: int,\n",
    "        slot_length: int,\n",
    "        avg_cores_per_chunk: int,\n",
    "        rngs: nnx.Rngs,\n",
    "    ):\n",
    "\n",
    "    self.input_length = input_length\n",
    "    self.core_length = core_length\n",
    "    self.slot_length = slot_length\n",
    "    self.avg_cores_per_chunk = avg_cores_per_chunk\n",
    "    self.rngs = rngs\n",
    "    \n",
    "    self.signin"
   ]
  },
  {
   "cell_type": "code",
   "execution_count": 2,
   "metadata": {},
   "outputs": [
    {
     "ename": "NameError",
     "evalue": "name 'rngs' is not defined",
     "output_type": "error",
     "traceback": [
      "\u001b[0;31m---------------------------------------------------------------------------\u001b[0m",
      "\u001b[0;31mNameError\u001b[0m                                 Traceback (most recent call last)",
      "Cell \u001b[0;32mIn[2], line 8\u001b[0m\n\u001b[1;32m      6\u001b[0m p1 \u001b[38;5;241m=\u001b[39m jnp\u001b[38;5;241m.\u001b[39meye(x_test\u001b[38;5;241m.\u001b[39mshape[\u001b[38;5;241m0\u001b[39m])\n\u001b[1;32m      7\u001b[0m \u001b[38;5;66;03m# plt.matshow(p1)\u001b[39;00m\n\u001b[0;32m----> 8\u001b[0m rand_perm \u001b[38;5;241m=\u001b[39m jax\u001b[38;5;241m.\u001b[39mrandom\u001b[38;5;241m.\u001b[39mpermutation(\u001b[43mrngs\u001b[49m\u001b[38;5;241m.\u001b[39mparams(), x_test\u001b[38;5;241m.\u001b[39mshape[\u001b[38;5;241m0\u001b[39m])\n\u001b[1;32m      9\u001b[0m rand_perm_cores \u001b[38;5;241m=\u001b[39m jax\u001b[38;5;241m.\u001b[39mrandom\u001b[38;5;241m.\u001b[39mpermutation(rngs\u001b[38;5;241m.\u001b[39mparams(), \u001b[38;5;241m4\u001b[39m)\n\u001b[1;32m     10\u001b[0m p2 \u001b[38;5;241m=\u001b[39m jnp\u001b[38;5;241m.\u001b[39meye(x_res\u001b[38;5;241m.\u001b[39mshape[\u001b[38;5;241m0\u001b[39m])\n",
      "\u001b[0;31mNameError\u001b[0m: name 'rngs' is not defined"
     ]
    },
    {
     "data": {
      "image/png": "[encoded data removed]",
      "text/plain": [
       "<Figure size 640x480 with 1 Axes>"
      ]
     },
     "metadata": {},
     "output_type": "display_data"
    }
   ],
   "source": [
    "x_test = jnp.tile(jnp.array([0, 1, 2, 3]), 16)\n",
    "\n",
    "plt.imshow(x_test.reshape(4, -1))\n",
    "\n",
    "# makinf the core-wise permutation\n",
    "p1 = jnp.eye(x_test.shape[0])\n",
    "# plt.matshow(p1)\n",
    "rand_perm = jax.random.permutation(rngs.params(), x_test.shape[0])\n",
    "rand_perm_cores = jax.random.permutation(rngs.params(), 4)\n",
    "p2 = jnp.eye(x_res.shape[0])\n",
    "p2 = p2[rand_perm_cores]\n",
    "print(rand_perm)\n",
    "p1 = p1[rand_perm]\n",
    "print(f\"Corewise permutation\")\n",
    "plt.matshow(p1)\n",
    "print(f\"Slot-wise permutation\")\n",
    "plt.matshow(p2)\n",
    "\n",
    "x_scr = jnp.einsum('ij,j->i', p1, x_test)\n",
    "print(f\"Scrambled inputs to slots\")\n",
    "plt.matshow(x_scr.reshape(4, -1))\n",
    "\n",
    "x_res = x_scr.reshape(4, -1)\n",
    "x_scr2 = jnp.einsum('ij,jk->ik', p2, x_res)\n",
    "# x_scr2 = x_scr2.reshape(-1,)\n",
    "print(f\"Copy of inputs to slots, scrambled\")\n",
    "plt.matshow(x_scr2)\n",
    "\n",
    "print(f\"xpos - xneg\")\n",
    "plt.matshow((x_scr - x_scr2.flatten()).reshape(4, -1))"
   ]
  },
  {
   "cell_type": "code",
   "execution_count": null,
   "metadata": {},
   "outputs": [],
   "source": [
    "def visualize_permutation_matrix(P):\n",
    "    \"\"\"\n",
    "    Visualize a permutation matrix as a bipartite graph.\n",
    "    \n",
    "    Parameters:\n",
    "    -----------\n",
    "    P : numpy.ndarray\n",
    "        A permutation matrix (n x n) with entries of 0s and 1s\n",
    "    \"\"\"\n",
    "    n = P.shape[0]  # Size of the permutation matrix (assuming square)\n",
    "    \n",
    "    # Create figure and axis\n",
    "    fig, ax = plt.subplots(figsize=(10, 12))\n",
    "    \n",
    "    # Set positions for left and right columns of dots\n",
    "    left_x = 0.2\n",
    "    right_x = 0.8\n",
    "    y_positions = jnp.linspace(0.05, 0.95, n)\n",
    "    \n",
    "    # Plot dots for left column (input slots)\n",
    "    left_points = []\n",
    "    for i in range(n):\n",
    "        left_points.append((left_x, y_positions[i]))\n",
    "        ax.plot(left_x, y_positions[i], 'o', color='blue', markersize=6)\n",
    "        ax.text(left_x - 0.05, y_positions[i], f\"{i+1}\", ha='right', va='center')\n",
    "    \n",
    "    # Plot dots for right column (output slots)\n",
    "    right_points = []\n",
    "    for i in range(n):\n",
    "        right_points.append((right_x, y_positions[i]))\n",
    "        ax.plot(right_x, y_positions[i], 'o', color='green', markersize=6)\n",
    "        ax.text(right_x + 0.05, y_positions[i], f\"{i+1}\", ha='left', va='center')\n",
    "    \n",
    "    # Draw lines based on the permutation matrix\n",
    "    for i in range(n):\n",
    "        j = jnp.where(P[i] == 1)[0][0]  # Find the position of 1 in row i\n",
    "        ax.plot([left_x, right_x], [y_positions[i], y_positions[j]], \n",
    "                '-', color='gray', alpha=0.7, linewidth=0.8)\n",
    "    \n",
    "    # Set plot limits and remove axes\n",
    "    ax.set_xlim(0, 1)\n",
    "    ax.set_ylim(0, 1)\n",
    "    ax.axis('off')\n",
    "    \n",
    "    # Add title and labels\n",
    "    plt.title('Permutation Matrix Visualization')\n",
    "    plt.text(left_x, 0.01, 'Input Slots', ha='center')\n",
    "    plt.text(right_x, 0.01, 'Output Slots', ha='center')\n",
    "    \n",
    "    plt.tight_layout()\n",
    "    return fig\n",
    "\n",
    "fig = visualize_permutation_matrix(p1)\n",
    "plt.show()"
   ]
  },
  {
   "cell_type": "markdown",
   "metadata": {},
   "source": [
    "## Thinking in terms of modules"
   ]
  },
  {
   "cell_type": "code",
   "execution_count": null,
   "metadata": {},
   "outputs": [],
   "source": [
    "# a single core\n",
    "class Core"
   ]
  }
 ],
 "metadata": {
  "kernelspec": {
   "display_name": "jax_gpu_env",
   "language": "python",
   "name": "python3"
  },
  "language_info": {
   "codemirror_mode": {
    "name": "ipython",
    "version": 3
   },
   "file_extension": ".py",
   "mimetype": "text/x-python",
   "name": "python",
   "nbconvert_exporter": "python",
   "pygments_lexer": "ipython3",
   "version": "3.11.11"
  }
 },
 "nbformat": 4,
 "nbformat_minor": 2
}
