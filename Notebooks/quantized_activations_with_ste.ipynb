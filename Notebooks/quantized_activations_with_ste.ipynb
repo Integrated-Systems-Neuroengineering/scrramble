{
 "cells": [
  {
   "cell_type": "code",
   "execution_count": 98,
   "id": "39248301",
   "metadata": {},
   "outputs": [],
   "source": [
    "import jax\n",
    "import jax.numpy as jnp\n",
    "import flax\n",
    "from flax import nnx\n",
    "import matplotlib.pyplot as plt\n",
    "import matplotlib as mpl\n",
    "import seaborn as sns\n",
    "from functools import partial\n",
    "\n",
    "plt.rcParams['text.usetex'] = True\n",
    "plt.rcParams['text.latex.preamble'] = r'\\usepackage{type1cm}'"
   ]
  },
  {
   "cell_type": "markdown",
   "id": "35887d92",
   "metadata": {},
   "source": [
    "# Quantized activation functions with Straight through estimators\n",
    "\n",
    "- Goal of this notebook is to put togeter the following quantized activation functions. Here is an intended list:\n",
    "1. ReLU\n",
    "2. Double rectified ReLU\n",
    "3. Sigmoid\n",
    "\n"
   ]
  },
  {
   "cell_type": "markdown",
   "id": "63ec9bd8",
   "metadata": {},
   "source": [
    "## ReLU"
   ]
  },
  {
   "cell_type": "code",
   "execution_count": 100,
   "id": "d1a43ac9",
   "metadata": {},
   "outputs": [
    {
     "data": {
      "image/png": "[encoded data removed]",
      "text/plain": [
       "<Figure size 704x528 with 1 Axes>"
      ]
     },
     "metadata": {},
     "output_type": "display_data"
    }
   ],
   "source": [
    "def quantized_relu(\n",
    "    x: float, # input value, set up uses vmap\n",
    "    bits: int = 4,\n",
    "    max_value: float = 1.0,\n",
    "):\n",
    "\n",
    "    \"\"\"\n",
    "    Quantized relu function.\n",
    "    Args:\n",
    "        x: input value\n",
    "        bits: number of bits for quantization\n",
    "        max_value: maximum value for quantization\n",
    "    \n",
    "    Returns:\n",
    "        Quantized value of x\n",
    "    \"\"\"\n",
    "\n",
    "    # find the levels\n",
    "    num_levels = 2**bits - 1\n",
    "\n",
    "    # find the threshold\n",
    "    thresholds = jnp.linspace(0, max_value, num_levels + 1)\n",
    "\n",
    "    # find the corresponding mappings\n",
    "    levels = nnx.relu(thresholds)\n",
    "\n",
    "    # determine all indices where the thresholds are less than x\n",
    "    less_than = levels < x\n",
    "\n",
    "    # find the index of the largest threshold that is less than x\n",
    "    idx = jnp.sum(less_than) - 1\n",
    "    idx = jnp.clip(idx, 0, len(thresholds)-1)\n",
    "\n",
    "    out = levels[idx]\n",
    "\n",
    "    return out\n",
    "\n",
    "\n",
    "\n",
    "# testing the quantized relu function\n",
    "x_test = jnp.linspace(-1., 2., 1000)\n",
    "x_relu = nnx.relu(x_test)\n",
    "x_qrelu = jax.vmap(quantized_relu, in_axes=(0, None, None))(x_test, 4, 1.5)\n",
    "\n",
    "# plotting \n",
    "fig, ax = plt.subplots(dpi = 110)\n",
    "set10_pal = sns.color_palette(\"Set2\", 10)\n",
    "ax.plot(x_test, x_relu, label=r\"ReLU\", c=set10_pal[0], lw=2.5, alpha=.7)\n",
    "ax.plot(x_test, x_qrelu, label=r\"Quantized ReLU\", c=set10_pal[1], lw=2.5, alpha=.7)\n",
    "ax.set_xlabel(r\"$x$\", fontsize=14)\n",
    "ax.set_ylabel(r\"$f(x)$\", fontsize=14)\n",
    "ax.legend(frameon=False, loc=(-0.05, 0.7))\n",
    "ax.set_yticks(jnp.linspace(0.25, 2.0, 8))\n",
    "\n",
    "ax.set_xlim(-1.0, 2.0)\n",
    "ax.set_ylim(0, 2.0)\n",
    "\n",
    "ax.spines['left'].set_position('zero')\n",
    "ax.spines['bottom'].set_position('zero')\n",
    "\n",
    "sns.despine()\n"
   ]
  },
  {
   "cell_type": "code",
   "execution_count": 101,
   "id": "cc412737",
   "metadata": {},
   "outputs": [
    {
     "name": "stdout",
     "output_type": "stream",
     "text": [
      "q_relu(x) = 0.46666669845581055\n",
      "straight through forward = 0.46666669845581055\n",
      "auto grad of q_relu = 0.0\n",
      "using STE = 1.0\n"
     ]
    }
   ],
   "source": [
    "# define backward pass for quantized relu\n",
    "# treat it as if it were a relu\n",
    "# @partial(jax.custom_vjp, nondiff_argnums=(1, 2))\n",
    "def straight_through_quantized_relu(\n",
    "    x: float, #input value,\n",
    "    bits: int = 4,\n",
    "    max_value: float = 1.0\n",
    "):\n",
    "\n",
    "    \"\"\"\n",
    "    Straight through estimator for quantized relu.\n",
    "    \"\"\"\n",
    "\n",
    "    zero = x - jax.lax.stop_gradient(x)\n",
    "    grad = zero + jax.lax.stop_gradient(quantized_relu(x, bits, max_value))\n",
    "\n",
    "    return grad\n",
    "\n",
    "# testing\n",
    "print(f\"q_relu(x) = {quantized_relu(0.5)}\")\n",
    "print(f\"straight through forward = {straight_through_quantized_relu(0.5)}\")\n",
    "\n",
    "print(f\"auto grad of q_relu = {jax.grad(quantized_relu)(0.5)}\")\n",
    "print(f\"using STE = {jax.grad(straight_through_quantized_relu)(0.5)}\")"
   ]
  },
  {
   "cell_type": "code",
   "execution_count": 107,
   "id": "2dcea1ca",
   "metadata": {},
   "outputs": [],
   "source": [
    "# using custom_vjp\n",
    "\n",
    "@partial(jax.custom_vjp, nondiff_argnums=(1, 2))\n",
    "def quantized_relu_ste(\n",
    "    x: float,\n",
    "    bits: int = 8,\n",
    "    max_value: float = 2.0,\n",
    "    **kwargs\n",
    "):\n",
    "\n",
    "    return quantized_relu(x, bits, max_value)\n",
    "\n",
    "def quantized_relu_fwd(\n",
    "    x: float,\n",
    "    bits: int = 8,\n",
    "    max_value: float = 2.0,\n",
    "    **kwargs\n",
    "):\n",
    "\n",
    "    primal_out = quantized_relu(x, bits, max_value)\n",
    "    return primal_out, x\n",
    "\n",
    "def quantized_relu_bwd(\n",
    "    bits, max_value, residuals, gradients\n",
    "):\n",
    "    x = residuals\n",
    "    grad = jnp.where(x > 0, 1.0, 0.0)\n",
    "\n",
    "    return (grad*gradients, )\n",
    "\n",
    "quantized_relu_ste.defvjp(quantized_relu_fwd, quantized_relu_bwd)"
   ]
  },
  {
   "cell_type": "code",
   "execution_count": null,
   "id": "26aebbd9",
   "metadata": {},
   "outputs": [
    {
     "name": "stdout",
     "output_type": "stream",
     "text": [
      "Test input = [[ 0.26492587  1.1237456   0.2940835   0.6650775   0.84790945  0.2143917\n",
      "   0.06733563 -0.7074875  -0.1938227   0.3873634 ]\n",
      " [-0.50155795 -0.8824733   1.5763451  -0.15191355 -0.9742329  -0.08459407\n",
      "  -1.9711989  -0.23225829  0.81321216  0.9419283 ]\n",
      " [ 0.8358773  -1.4805877  -2.2777958   0.27622217  0.8526375  -1.3873721\n",
      "   1.6078974   0.3510882  -1.9227772   1.8008469 ]\n",
      " [ 1.1072831   1.2593466   0.12804882  0.76791936 -0.34087273  1.2219316\n",
      "   1.0426373  -0.36649597 -2.1325328  -1.361489  ]\n",
      " [-1.5313423  -0.9063598   1.5172201  -0.87163955 -0.8793821  -0.18170193\n",
      "  -0.65821224  0.7451525  -1.8369389   0.18719244]]\n",
      "Outs = [0.25882354 1.1215687  0.2901961  0.65882355 0.8470589  0.21176472\n",
      " 0.0627451  0.         0.         0.38431376 0.         0.\n",
      " 1.5686276  0.         0.         0.         0.         0.\n",
      " 0.8078432  0.94117653 0.8313726  0.         0.         0.27450982\n",
      " 0.8470589  0.         1.6078433  0.34509805 0.         1.7960786\n",
      " 1.1058824  1.254902   0.1254902  0.7607844  0.         1.2156863\n",
      " 1.0352942  0.         0.         0.         0.         0.\n",
      " 1.5137256  0.         0.         0.         0.         0.74509805\n",
      " 0.         0.18039216]\n"
     ]
    }
   ],
   "source": [
    "# testing\n",
    "key = jax.random.key(1435)\n",
    "x_test = jax.random.normal(key, (5, 10))\n",
    "\n",
    "print(f\"Test input = {x_test}\")\n",
    "\n",
    "# forward pass\n",
    "x_test_shape = x_test.shape\n",
    "y = jax.vmap(quantized_relu_ste, in_axes=(0, None, None))(x_test.flatten(), 8, 2.0)\n",
    "\n",
    "print(f\"Outs = {y}\")\n"
   ]
  },
  {
   "cell_type": "code",
   "execution_count": null,
   "id": "f91daa12",
   "metadata": {},
   "outputs": [],
   "source": []
  },
  {
   "cell_type": "code",
   "execution_count": null,
   "id": "2fd97acc",
   "metadata": {},
   "outputs": [],
   "source": []
  }
 ],
 "metadata": {
  "kernelspec": {
   "display_name": "scrramble_env",
   "language": "python",
   "name": "python3"
  },
  "language_info": {
   "codemirror_mode": {
    "name": "ipython",
    "version": 3
   },
   "file_extension": ".py",
   "mimetype": "text/x-python",
   "name": "python",
   "nbconvert_exporter": "python",
   "pygments_lexer": "ipython3",
   "version": "3.12.2"
  }
 },
 "nbformat": 4,
 "nbformat_minor": 5
}
