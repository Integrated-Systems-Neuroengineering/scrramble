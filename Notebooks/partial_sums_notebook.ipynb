{
 "cells": [
  {
   "cell_type": "markdown",
   "id": "d8761571",
   "metadata": {},
   "source": [
    "# Baseline Model with Partial Sums\n",
    "- Construct a baseline model with partial sums to compare against ScRRAMBLe.\n",
    "- Refer to older scrips.\n",
    "\n",
    "_Created on: 08/06/2025_"
   ]
  },
  {
   "cell_type": "code",
   "execution_count": 1,
   "id": "11707e92",
   "metadata": {},
   "outputs": [
    {
     "name": "stderr",
     "output_type": "stream",
     "text": [
      "2025-08-07 12:11:00.422730: E external/local_xla/xla/stream_executor/cuda/cuda_fft.cc:467] Unable to register cuFFT factory: Attempting to register factory for plugin cuFFT when one has already been registered\n",
      "WARNING: All log messages before absl::InitializeLog() is called are written to STDERR\n",
      "E0000 00:00:1754593860.435790 2060556 cuda_dnn.cc:8579] Unable to register cuDNN factory: Attempting to register factory for plugin cuDNN when one has already been registered\n",
      "E0000 00:00:1754593860.440006 2060556 cuda_blas.cc:1407] Unable to register cuBLAS factory: Attempting to register factory for plugin cuBLAS when one has already been registered\n",
      "W0000 00:00:1754593860.451058 2060556 computation_placer.cc:177] computation placer already registered. Please check linkage and avoid linking the same target more than once.\n",
      "W0000 00:00:1754593860.451070 2060556 computation_placer.cc:177] computation placer already registered. Please check linkage and avoid linking the same target more than once.\n",
      "W0000 00:00:1754593860.451072 2060556 computation_placer.cc:177] computation placer already registered. Please check linkage and avoid linking the same target more than once.\n",
      "W0000 00:00:1754593860.451074 2060556 computation_placer.cc:177] computation placer already registered. Please check linkage and avoid linking the same target more than once.\n"
     ]
    }
   ],
   "source": [
    "import jax\n",
    "import math\n",
    "import jax.numpy as jnp\n",
    "import optax\n",
    "import flax\n",
    "from flax import nnx\n",
    "from flax.nnx.nn import initializers\n",
    "from typing import Callable\n",
    "import json\n",
    "import os\n",
    "import pickle\n",
    "import numpy as np\n",
    "from collections import defaultdict\n",
    "from functools import partial\n",
    "from tqdm import tqdm\n",
    "from datetime import date\n",
    "\n",
    "import matplotlib.pyplot as plt\n",
    "import matplotlib as mpl\n",
    "import seaborn as sns\n",
    "# mpl.use('Agg')  # Use a non-interactive backend for matplotlib.\n",
    "\n",
    "from models import ScRRAMBLeCapsLayer\n",
    "\n",
    "from utils.activation_functions import quantized_relu_ste, squash, qrelu\n",
    "# from utils.loss_functions import margin_loss\n",
    "from utils import ScRRAMBLe_routing, intercore_connectivity, load_and_augment_mnist\n",
    "\n",
    "\n",
    "import tensorflow_datasets as tfds  # TFDS to download MNIST.\n",
    "import tensorflow as tf  # TensorFlow / `tf.data` operations.\n",
    "\n",
    "%load_ext autoreload\n",
    "%autoreload 2"
   ]
  },
  {
   "cell_type": "code",
   "execution_count": 2,
   "id": "5b3a2ace",
   "metadata": {},
   "outputs": [],
   "source": [
    "class PartialSumsLayer(nnx.Module):\n",
    "    \"\"\"\n",
    "    Module for single partial sums layer.\n",
    "    Takes in size of a feedforwardf layer.\n",
    "    Initializes appropriate number of cores as trainable parameters.\n",
    "    Accumulates partial sums across the cores\n",
    "    \"\"\"\n",
    "\n",
    "    def __init__(self,\n",
    "                 in_size: int,\n",
    "                 out_size: int,\n",
    "                 rngs: nnx.Rngs,\n",
    "                 activation_function: Callable,\n",
    "                 columns_per_core: int = 256\n",
    "                 ):\n",
    "        \n",
    "        self.in_size = in_size\n",
    "        self.out_size = out_size\n",
    "        self.activation_function = activation_function\n",
    "        self.columns_per_core = columns_per_core\n",
    "        self.rngs = rngs\n",
    "\n",
    "        # number of cores requires\n",
    "        self.in_blocks = math.ceil(in_size / columns_per_core)\n",
    "        self.out_blocks = math.ceil(out_size / columns_per_core)\n",
    "\n",
    "        # initialize parameters\n",
    "        initializer = initializers.glorot_normal()\n",
    "        self.W = nnx.Param(\n",
    "            initializer(self.rngs.params(), (self.out_blocks, self.in_blocks, self.columns_per_core, self.columns_per_core))\n",
    "        )\n",
    "\n",
    "    def __call__(self, x: jax.Array) -> jax.Array:\n",
    "        \"\"\"\n",
    "        Forward pass. No batch dimension. use vmap\n",
    "        Assume the x is flat\n",
    "        \"\"\"\n",
    "\n",
    "        # # pad the input if in_size is not a multiple of 256\n",
    "        # x_padded = jnp.pad(x, pad_width=((0, 0), (0, self.columns_per_core * self.in_blocks - self.in_size)))\n",
    "\n",
    "        x_reshape = x.reshape(self.in_blocks, self.columns_per_core)\n",
    "\n",
    "        # compute the partial sums\n",
    "        y = jnp.einsum('ijkl,jl->ik', self.W, x_reshape)\n",
    "\n",
    "        # apply activation function\n",
    "        y = jax.vmap(self.activation_function, in_axes=(0,))(y)\n",
    "\n",
    "        return y\n"
   ]
  },
  {
   "cell_type": "code",
   "execution_count": 3,
   "id": "42ed2787",
   "metadata": {},
   "outputs": [
    {
     "name": "stdout",
     "output_type": "stream",
     "text": [
      "Output shape: (10, 2, 256)\n",
      "Output: [0.         0.7686344  0.         0.         0.33890092 0.12463952\n",
      " 0.         0.03248509 0.26785067 0.18344072]\n"
     ]
    }
   ],
   "source": [
    "# testing forward pass\n",
    "rngs = nnx.Rngs(params=0, activations=1, permute=5, default=345)\n",
    "x_test = jax.random.normal(rngs.default(), (10, 1024))\n",
    "activation_function = nnx.relu\n",
    "# activation_function = partial(qrelu, bits=4)\n",
    "test_layer = PartialSumsLayer(\n",
    "    in_size=x_test.shape[-1],\n",
    "    out_size=512,\n",
    "    rngs=rngs,\n",
    "    activation_function=activation_function,\n",
    ")\n",
    "\n",
    "# nnx.display(test_layer)\n",
    "y_test = jax.vmap(test_layer, in_axes=(0,))(x_test)\n",
    "print(f\"Output shape: {y_test.shape}\")\n",
    "print(f\"Output: {y_test[0, 0, :10]}\")\n",
    "\n",
    "del test_layer"
   ]
  },
  {
   "cell_type": "code",
   "execution_count": 3,
   "id": "9af24f53",
   "metadata": {},
   "outputs": [],
   "source": [
    "# define a network with partial sums\n",
    "class PartialSumsNetwork(nnx.Module):\n",
    "    \"\"\"\n",
    "    Network with partial sums layers.\n",
    "    \"\"\"\n",
    "\n",
    "    def __init__(self,\n",
    "                 layer_sizes: list,\n",
    "                 rngs: nnx.Rngs,\n",
    "                 activation_function: Callable,\n",
    "                 columns_per_core: int = 256\n",
    "                ):\n",
    "        \n",
    "        self.layer_sizes = layer_sizes\n",
    "        self.activation_function = activation_function\n",
    "        self.columns_per_core = columns_per_core\n",
    "        self.rngs = rngs\n",
    "\n",
    "        # initialize the layers\n",
    "        self.layers = [\n",
    "            PartialSumsLayer(\n",
    "                in_size=i,\n",
    "                out_size=o,\n",
    "                rngs=rngs,\n",
    "                activation_function=activation_function,\n",
    "                columns_per_core=columns_per_core\n",
    "            )\n",
    "            for i, o in zip(layer_sizes[:-1], layer_sizes[1:])\n",
    "        ]\n",
    "\n",
    "    def __call__(self, x: jax.Array) -> jax.Array:\n",
    "        \"\"\"\n",
    "        Forward pass through the network. Assume that x has a batch dimension!\n",
    "        \"\"\"\n",
    "\n",
    "        # resize the image to be (32, 32) for MNIST\n",
    "        x = jax.image.resize(x, (x.shape[0], 32, 32, 1), method='nearest')\n",
    "\n",
    "        # flatten the first two dimensions\n",
    "        x = jnp.reshape(x, (x.shape[0], -1))\n",
    "\n",
    "        for layer in self.layers:\n",
    "            x = jax.vmap(layer, in_axes=(0,))(x)\n",
    "\n",
    "        # at the final layer apply population code\n",
    "        x = x.reshape(x.shape[0], -1)\n",
    "        x = x[:, :250]\n",
    "        x = x.reshape(x.shape[0], 10, -1)\n",
    "        x = jnp.mean(x, axis=-1)\n",
    "\n",
    "        return x\n",
    "\n",
    "        "
   ]
  },
  {
   "cell_type": "code",
   "execution_count": 5,
   "id": "eebfd64b",
   "metadata": {},
   "outputs": [
    {
     "name": "stdout",
     "output_type": "stream",
     "text": [
      "Output shape: (10, 10)\n",
      "Output: [0.02932509 0.06052509 0.05852911 0.05839609 0.04864245 0.05797828\n",
      " 0.05379442 0.01932956 0.04287183 0.08704461]\n"
     ]
    }
   ],
   "source": [
    "# testing the network\n",
    "layer_sizes = [1024, 2048, 512, 256]\n",
    "activation_function = nnx.relu\n",
    "test_network = PartialSumsNetwork(\n",
    "    layer_sizes=layer_sizes,\n",
    "    rngs=rngs,\n",
    "    activation_function=activation_function,\n",
    "    columns_per_core=256\n",
    ")\n",
    "\n",
    "x_test = jax.random.normal(rngs.default(), (10, 32, 32, 1))\n",
    "y_test = test_network(x_test)\n",
    "print(f\"Output shape: {y_test.shape}\")\n",
    "print(f\"Output: {y_test[0, :]}\")\n",
    "\n",
    "# nnx.display(test_network)\n",
    "del test_network  # Clean up the test network to free memory."
   ]
  },
  {
   "cell_type": "markdown",
   "id": "7ee74c8c",
   "metadata": {},
   "source": [
    "## Setting up a training pipeline"
   ]
  },
  {
   "cell_type": "code",
   "execution_count": 4,
   "id": "de823cca",
   "metadata": {},
   "outputs": [
    {
     "name": "stderr",
     "output_type": "stream",
     "text": [
      "W0000 00:00:1754593882.165226 2060556 gpu_device.cc:2341] Cannot dlopen some GPU libraries. Please make sure the missing libraries mentioned above are installed properly if you would like to use GPU. Follow the guide at https://www.tensorflow.org/install/gpu for how to download and setup the required libraries for your platform.\n",
      "Skipping registering GPU devices...\n"
     ]
    }
   ],
   "source": [
    "# dataset loading\n",
    "data_dir = \"/local_disk/vikrant/datasets\"\n",
    "dataset_dict = {\n",
    "    'batch_size': 64, # 64 is a good batch size for MNIST\n",
    "    'train_steps': int(2e4), # run for longer, 20000 is good!\n",
    "    'binarize': True, \n",
    "    'greyscale': True,\n",
    "    'data_dir': data_dir,\n",
    "    'seed': 101,\n",
    "    'shuffle_buffer': 1024,\n",
    "    'threshold' : 0.5, # binarization threshold, not to be confused with the threshold in the model\n",
    "    'eval_every': 1000,\n",
    "}\n",
    "\n",
    "# loading the dataset\n",
    "train_ds, valid_ds, test_ds = load_and_augment_mnist(\n",
    "    batch_size=dataset_dict['batch_size'],\n",
    "    train_steps=dataset_dict['train_steps'],\n",
    "    data_dir=dataset_dict['data_dir'],\n",
    "    seed=dataset_dict['seed'],\n",
    "    shuffle_buffer=dataset_dict['shuffle_buffer'],\n",
    ")\n"
   ]
  },
  {
   "cell_type": "code",
   "execution_count": 5,
   "id": "915fb48c",
   "metadata": {},
   "outputs": [],
   "source": [
    "# Training step functions\n",
    "def loss_fn(model: PartialSumsNetwork, batch):\n",
    "    logits = model(batch['image'])\n",
    "    loss = optax.softmax_cross_entropy_with_integer_labels(\n",
    "        logits=logits, labels=batch['label']\n",
    "    ).mean()\n",
    "\n",
    "    return loss, logits\n",
    "\n",
    "@nnx.jit\n",
    "@nnx.jit\n",
    "def train_step(model: PartialSumsNetwork, optimizer: nnx.Optimizer, metrics: nnx.MultiMetric, batch, loss_fn: Callable = loss_fn):\n",
    "  \"\"\"Train for a single step.\"\"\"\n",
    "  grad_fn = nnx.value_and_grad(loss_fn, has_aux=True)\n",
    "  (loss, logits), grads = grad_fn(model, batch)\n",
    "  metrics.update(loss=loss, logits=logits, labels=batch['label'])  # In-place updates.\n",
    "  optimizer.update(grads)  # In-place updates.\n",
    "\n",
    "@nnx.jit\n",
    "def eval_step(model: PartialSumsNetwork, metrics: nnx.MultiMetric, batch, loss_fn: Callable = loss_fn):\n",
    "  loss, logits = loss_fn(model, batch)\n",
    "  metrics.update(loss=loss, logits=logits, labels=batch['label'])  # In-place updates.\n",
    "\n",
    "@nnx.jit\n",
    "def pred_step(model: PartialSumsNetwork, batch):\n",
    "  logits = model(batch['image'])\n",
    "  return logits.argmax(axis=1)\n"
   ]
  },
  {
   "cell_type": "code",
   "execution_count": 6,
   "id": "40658526",
   "metadata": {},
   "outputs": [],
   "source": [
    "key = jax.random.key(10)\n",
    "key1, key2, key3, key4 = jax.random.split(key, 4)\n",
    "rngs = nnx.Rngs(params=key1, activations=key2, permute=key3, default=key4)\n",
    "\n",
    "# Initialize the model\n",
    "model = PartialSumsNetwork(\n",
    "    layer_sizes=[1024, 2048, 512, 256],\n",
    "    rngs=rngs,\n",
    "    activation_function=nnx.relu,\n",
    "    columns_per_core=256\n",
    ")\n",
    "\n",
    "# optimizers\n",
    "hyperparameters = {\n",
    "    'learning_rate': 0.8e-4, # 1e-3 seems to work well\n",
    "    'momentum': 0.9, \n",
    "    'weight_decay': 1e-4\n",
    "}\n",
    "\n",
    "optimizer = nnx.Optimizer(\n",
    "    model,\n",
    "    optax.adamw(learning_rate=hyperparameters['learning_rate'], weight_decay=hyperparameters['weight_decay'])\n",
    ")\n",
    "\n",
    "metrics = nnx.MultiMetric(\n",
    "    accuracy=nnx.metrics.Accuracy(),\n",
    "    loss=nnx.metrics.Average('loss')\n",
    ")\n"
   ]
  },
  {
   "cell_type": "code",
   "execution_count": 7,
   "id": "c64db229",
   "metadata": {},
   "outputs": [],
   "source": [
    "metrics_history = {\n",
    "'train_loss': [],\n",
    "'train_accuracy': [],\n",
    "'test_loss': [],\n",
    "'valid_loss': [],\n",
    "'valid_accuracy': [],\n",
    "'test_accuracy': [],\n",
    "'step': []\n",
    "}\n",
    "\n",
    "def train_scrramble_capsnet_mnist(\n",
    "        model: PartialSumsNetwork = model,\n",
    "        optimizer: nnx.Optimizer = optimizer,\n",
    "        train_ds: tf.data.Dataset = train_ds,\n",
    "        valid_ds: tf.data.Dataset = valid_ds,\n",
    "        dataset_dict: dict = dataset_dict,\n",
    "        save_model_flag: bool = False,\n",
    "        save_metrics_flag: bool = False,\n",
    "):\n",
    "    \n",
    "    eval_every = dataset_dict['eval_every']\n",
    "    train_steps = dataset_dict['train_steps']\n",
    "\n",
    "    for step, batch in enumerate(train_ds.as_numpy_iterator()):\n",
    "        # Run the optimization for one step and make a stateful update to the following:\n",
    "        # - The train state's model parameters\n",
    "        # - The optimizer state\n",
    "        # - The training loss and accuracy batch metrics\n",
    "\n",
    "        train_step(model, optimizer, metrics, batch)\n",
    "\n",
    "        if step > 0 and (step % eval_every == 0 or step == train_steps - 1):  # One training epoch has passed.\n",
    "            metrics_history['step'].append(step)  # Record the step.\n",
    "            # Log the training metrics.\n",
    "            for metric, value in metrics.compute().items():  # Compute the metrics.\n",
    "                metrics_history[f'train_{metric}'].append(float(value))  # Record the metrics.\n",
    "            metrics.reset()  # Reset the metrics for the test set.\n",
    "\n",
    "            # Compute the metrics on the validation set after each training epoch.\n",
    "            for valid_batch in valid_ds.as_numpy_iterator():\n",
    "                eval_step(model, metrics, valid_batch)\n",
    "\n",
    "            # Log the validation metrics.\n",
    "            for metric, value in metrics.compute().items():\n",
    "                metrics_history[f'valid_{metric}'].append(float(value))\n",
    "            metrics.reset()  # Reset the metrics for the next training epoch.\n",
    "\n",
    "            print(f\"Step {step}: Valid loss: {metrics_history['valid_loss'][-1]}, Accuracy: {metrics_history['valid_accuracy'][-1]}\")\n",
    "\n",
    "    best_accuracy = max(metrics_history['valid_accuracy'])\n",
    "    print(f\"Best accuracy: {best_accuracy}\")\n",
    "\n",
    "    # find the test set accuracy\n",
    "    for test_batch in test_ds.as_numpy_iterator():\n",
    "        eval_step(model, metrics, test_batch)\n",
    "        # print the metrics\n",
    "    for metric, value in metrics.compute().items():\n",
    "        metrics_history[f'test_{metric}'].append(float(value))\n",
    "    metrics.reset()  # Reset the metrics for the next training epoch.\n",
    "\n",
    "    print(\"=\"*50)\n",
    "    print(f\"Test loss: {metrics_history['test_loss'][-1]}, Test accuracy: {metrics_history['test_accuracy'][-1]}\")\n",
    "    print(\"=\"*50)\n",
    "\n",
    "    # if save_model_flag:\n",
    "    #     today = date.today().isoformat()\n",
    "    #     filename = f\"sscamble_mnist_capsnet_recon_capsules{(sum(model.layer_sizes)-model.input_eff_capsules):d}_acc_{metrics_history['test_accuracy'][-1]*100:.0f}_{today}.pkl\"\n",
    "    #     graphdef, state = nnx.split(model)\n",
    "    #     save_model(state, filename)\n",
    "\n",
    "    # if save_metrics_flag:\n",
    "    #     today = date.today().isoformat()\n",
    "    #     filename = f\"sscamble_mnist_capsnet_recon_capsules{(sum(model.layer_sizes)-model.input_eff_capsules):d}_acc_{metrics_history['test_accuracy'][-1]*100:.0f}_{today}.pkl\"\n",
    "    #     save_metrics(metrics_history, filename)\n",
    "\n",
    "    return model\n"
   ]
  },
  {
   "cell_type": "code",
   "execution_count": 8,
   "id": "f318eef4",
   "metadata": {},
   "outputs": [
    {
     "name": "stderr",
     "output_type": "stream",
     "text": [
      "2025-08-07 12:11:26.799395: W external/xla/xla/service/gpu/autotuning/dot_search_space.cc:200] All configs were filtered out because none of them sufficiently match the hints. Maybe the hints set does not contain a good representative set of valid configs?Working around this by using the full hints set instead.\n",
      "2025-08-07 12:11:26.799425: W external/xla/xla/service/gpu/autotuning/dot_search_space.cc:200] All configs were filtered out because none of them sufficiently match the hints. Maybe the hints set does not contain a good representative set of valid configs?Working around this by using the full hints set instead.\n",
      "2025-08-07 12:11:26.799485: W external/xla/xla/service/gpu/autotuning/dot_search_space.cc:200] All configs were filtered out because none of them sufficiently match the hints. Maybe the hints set does not contain a good representative set of valid configs?Working around this by using the full hints set instead.\n",
      "2025-08-07 12:11:26.799497: W external/xla/xla/service/gpu/autotuning/dot_search_space.cc:200] All configs were filtered out because none of them sufficiently match the hints. Maybe the hints set does not contain a good representative set of valid configs?Working around this by using the full hints set instead.\n"
     ]
    },
    {
     "name": "stdout",
     "output_type": "stream",
     "text": [
      "Step 1000: Valid loss: 0.5657087564468384, Accuracy: 0.8353873491287231\n",
      "Step 2000: Valid loss: 0.32924798130989075, Accuracy: 0.9022687673568726\n",
      "Step 3000: Valid loss: 0.23673319816589355, Accuracy: 0.9334587454795837\n",
      "Step 4000: Valid loss: 0.19923493266105652, Accuracy: 0.9414412975311279\n",
      "Step 5000: Valid loss: 0.17936347424983978, Accuracy: 0.948203444480896\n",
      "Step 6000: Valid loss: 0.15938761830329895, Accuracy: 0.9532450437545776\n",
      "Step 7000: Valid loss: 0.1526576280593872, Accuracy: 0.9547855257987976\n",
      "Step 8000: Valid loss: 0.13630181550979614, Accuracy: 0.9591269493103027\n",
      "Step 9000: Valid loss: 0.125034362077713, Accuracy: 0.9633883237838745\n",
      "Step 10000: Valid loss: 0.1245848685503006, Accuracy: 0.9628481268882751\n",
      "Step 11000: Valid loss: 0.10779351741075516, Accuracy: 0.967869758605957\n",
      "Step 12000: Valid loss: 0.11494171619415283, Accuracy: 0.9657090306282043\n",
      "Step 13000: Valid loss: 0.1094745323061943, Accuracy: 0.9675295948982239\n",
      "Step 14000: Valid loss: 0.0988001599907875, Accuracy: 0.9705706238746643\n",
      "Step 15000: Valid loss: 0.09200777113437653, Accuracy: 0.9724912047386169\n",
      "Step 16000: Valid loss: 0.09529254585504532, Accuracy: 0.9712508320808411\n",
      "Step 17000: Valid loss: 0.09303170442581177, Accuracy: 0.9716509580612183\n",
      "Step 18000: Valid loss: 0.08962098509073257, Accuracy: 0.9730513691902161\n",
      "Step 19000: Valid loss: 0.08678678423166275, Accuracy: 0.9741517305374146\n",
      "Step 19999: Valid loss: 0.08266216516494751, Accuracy: 0.9753521084785461\n",
      "Best accuracy: 0.9753521084785461\n",
      "==================================================\n",
      "Test loss: 0.048287469893693924, Test accuracy: 0.9844751954078674\n",
      "==================================================\n"
     ]
    }
   ],
   "source": [
    "trained_model = train_scrramble_capsnet_mnist(\n",
    "    model=model,\n",
    "    optimizer=optimizer,\n",
    "    train_ds=train_ds,\n",
    "    valid_ds=valid_ds,\n",
    "    dataset_dict=dataset_dict,\n",
    "    save_model_flag=False,  # Set to True if you want to save the model.\n",
    "    save_metrics_flag=False,  # Set to True if you want to save the metrics.\n",
    ")"
   ]
  },
  {
   "cell_type": "code",
   "execution_count": 10,
   "id": "b2cf4d47",
   "metadata": {},
   "outputs": [
    {
     "data": {
      "image/png": "[encoded data removed]",
      "text/plain": [
       "<Figure size 700x350 with 2 Axes>"
      ]
     },
     "metadata": {},
     "output_type": "display_data"
    }
   ],
   "source": [
    "fig, ax = plt.subplots(1, 2, figsize=(7, 3.5))\n",
    "# Plot training and validation loss\n",
    "ax[0].plot(metrics_history['step'], metrics_history['train_loss'], label='Train Loss')\n",
    "ax[0].plot(metrics_history['step'], metrics_history['valid_loss'], label='Valid Loss')\n",
    "ax[0].set_xlabel('Step')\n",
    "ax[0].set_ylabel('Loss')\n",
    "ax[0].legend(frameon=False)\n",
    "\n",
    "ax[1].plot(metrics_history['step'], metrics_history['train_accuracy'], label='Train Accuracy')\n",
    "ax[1].plot(metrics_history['step'], metrics_history['valid_accuracy'], label='Valid Accuracy')\n",
    "ax[1].set_xlabel('Step')\n",
    "ax[1].set_ylabel('Accuracy')\n",
    "ax[1].legend(frameon=False)\n",
    "\n",
    "plt.tight_layout()\n",
    "sns.despine(top=True, right=True)"
   ]
  },
  {
   "cell_type": "code",
   "execution_count": 11,
   "id": "6ee63314",
   "metadata": {},
   "outputs": [],
   "source": [
    "del model"
   ]
  },
  {
   "cell_type": "markdown",
   "id": "9415c0f2",
   "metadata": {},
   "source": [
    "## Preliminary plots for performance with quantization"
   ]
  },
  {
   "cell_type": "code",
   "execution_count": 14,
   "id": "b9d651ee",
   "metadata": {},
   "outputs": [
    {
     "name": "stderr",
     "output_type": "stream",
     "text": [
      "Quantizing models:   0%|          | 0/32 [00:00<?, ?it/s]2025-08-07 12:30:52.062771: W external/xla/xla/service/gpu/autotuning/dot_search_space.cc:200] All configs were filtered out because none of them sufficiently match the hints. Maybe the hints set does not contain a good representative set of valid configs?Working around this by using the full hints set instead.\n"
     ]
    },
    {
     "name": "stdout",
     "output_type": "stream",
     "text": [
      "Quantizing with 1 bits resolution...\n"
     ]
    },
    {
     "name": "stderr",
     "output_type": "stream",
     "text": [
      "Quantizing models:   3%|▎         | 1/32 [00:01<00:39,  1.28s/it]"
     ]
    },
    {
     "name": "stdout",
     "output_type": "stream",
     "text": [
      "Accuracy: 0.0980, resolution: 1 bits\n",
      "Quantizing with 2 bits resolution...\n"
     ]
    },
    {
     "name": "stderr",
     "output_type": "stream",
     "text": [
      "Quantizing models:   6%|▋         | 2/32 [00:01<00:27,  1.10it/s]"
     ]
    },
    {
     "name": "stdout",
     "output_type": "stream",
     "text": [
      "Accuracy: 0.6596, resolution: 2 bits\n",
      "Quantizing with 3 bits resolution...\n"
     ]
    },
    {
     "name": "stderr",
     "output_type": "stream",
     "text": [
      "Quantizing models:   9%|▉         | 3/32 [00:02<00:22,  1.27it/s]"
     ]
    },
    {
     "name": "stdout",
     "output_type": "stream",
     "text": [
      "Accuracy: 0.6469, resolution: 3 bits\n",
      "Quantizing with 4 bits resolution...\n"
     ]
    },
    {
     "name": "stderr",
     "output_type": "stream",
     "text": [
      "Quantizing models:  12%|█▎        | 4/32 [00:03<00:20,  1.36it/s]"
     ]
    },
    {
     "name": "stdout",
     "output_type": "stream",
     "text": [
      "Accuracy: 0.6769, resolution: 4 bits\n",
      "Quantizing with 5 bits resolution...\n"
     ]
    },
    {
     "name": "stderr",
     "output_type": "stream",
     "text": [
      "Quantizing models:  16%|█▌        | 5/32 [00:03<00:18,  1.42it/s]"
     ]
    },
    {
     "name": "stdout",
     "output_type": "stream",
     "text": [
      "Accuracy: 0.6912, resolution: 5 bits\n",
      "Quantizing with 6 bits resolution...\n"
     ]
    },
    {
     "name": "stderr",
     "output_type": "stream",
     "text": [
      "Quantizing models:  19%|█▉        | 6/32 [00:04<00:17,  1.47it/s]"
     ]
    },
    {
     "name": "stdout",
     "output_type": "stream",
     "text": [
      "Accuracy: 0.6973, resolution: 6 bits\n",
      "Quantizing with 7 bits resolution...\n"
     ]
    },
    {
     "name": "stderr",
     "output_type": "stream",
     "text": [
      "Quantizing models:  22%|██▏       | 7/32 [00:05<00:16,  1.49it/s]"
     ]
    },
    {
     "name": "stdout",
     "output_type": "stream",
     "text": [
      "Accuracy: 0.7003, resolution: 7 bits\n",
      "Quantizing with 8 bits resolution...\n"
     ]
    },
    {
     "name": "stderr",
     "output_type": "stream",
     "text": [
      "Quantizing models:  25%|██▌       | 8/32 [00:05<00:16,  1.49it/s]"
     ]
    },
    {
     "name": "stdout",
     "output_type": "stream",
     "text": [
      "Accuracy: 0.7020, resolution: 8 bits\n",
      "Quantizing with 9 bits resolution...\n"
     ]
    },
    {
     "name": "stderr",
     "output_type": "stream",
     "text": [
      "Quantizing models:  28%|██▊       | 9/32 [00:06<00:15,  1.51it/s]"
     ]
    },
    {
     "name": "stdout",
     "output_type": "stream",
     "text": [
      "Accuracy: 0.7032, resolution: 9 bits\n",
      "Quantizing with 10 bits resolution...\n"
     ]
    },
    {
     "name": "stderr",
     "output_type": "stream",
     "text": [
      "Quantizing models:  31%|███▏      | 10/32 [00:07<00:14,  1.52it/s]"
     ]
    },
    {
     "name": "stdout",
     "output_type": "stream",
     "text": [
      "Accuracy: 0.7039, resolution: 10 bits\n",
      "Quantizing with 11 bits resolution...\n"
     ]
    },
    {
     "name": "stderr",
     "output_type": "stream",
     "text": [
      "Quantizing models:  34%|███▍      | 11/32 [00:07<00:13,  1.52it/s]"
     ]
    },
    {
     "name": "stdout",
     "output_type": "stream",
     "text": [
      "Accuracy: 0.7040, resolution: 11 bits\n",
      "Quantizing with 12 bits resolution...\n"
     ]
    },
    {
     "name": "stderr",
     "output_type": "stream",
     "text": [
      "Quantizing models:  38%|███▊      | 12/32 [00:08<00:13,  1.52it/s]"
     ]
    },
    {
     "name": "stdout",
     "output_type": "stream",
     "text": [
      "Accuracy: 0.7040, resolution: 12 bits\n",
      "Quantizing with 13 bits resolution...\n"
     ]
    },
    {
     "name": "stderr",
     "output_type": "stream",
     "text": [
      "Quantizing models:  41%|████      | 13/32 [00:09<00:12,  1.52it/s]"
     ]
    },
    {
     "name": "stdout",
     "output_type": "stream",
     "text": [
      "Accuracy: 0.7041, resolution: 13 bits\n",
      "Quantizing with 14 bits resolution...\n"
     ]
    },
    {
     "name": "stderr",
     "output_type": "stream",
     "text": [
      "Quantizing models:  44%|████▍     | 14/32 [00:09<00:11,  1.52it/s]"
     ]
    },
    {
     "name": "stdout",
     "output_type": "stream",
     "text": [
      "Accuracy: 0.7041, resolution: 14 bits\n",
      "Quantizing with 15 bits resolution...\n"
     ]
    },
    {
     "name": "stderr",
     "output_type": "stream",
     "text": [
      "Quantizing models:  47%|████▋     | 15/32 [00:10<00:11,  1.52it/s]"
     ]
    },
    {
     "name": "stdout",
     "output_type": "stream",
     "text": [
      "Accuracy: 0.7041, resolution: 15 bits\n",
      "Quantizing with 16 bits resolution...\n"
     ]
    },
    {
     "name": "stderr",
     "output_type": "stream",
     "text": [
      "Quantizing models:  50%|█████     | 16/32 [00:11<00:10,  1.53it/s]"
     ]
    },
    {
     "name": "stdout",
     "output_type": "stream",
     "text": [
      "Accuracy: 0.7042, resolution: 16 bits\n",
      "Quantizing with 17 bits resolution...\n"
     ]
    },
    {
     "name": "stderr",
     "output_type": "stream",
     "text": [
      "Quantizing models:  53%|█████▎    | 17/32 [00:11<00:09,  1.52it/s]"
     ]
    },
    {
     "name": "stdout",
     "output_type": "stream",
     "text": [
      "Accuracy: 0.7042, resolution: 17 bits\n",
      "Quantizing with 18 bits resolution...\n"
     ]
    },
    {
     "name": "stderr",
     "output_type": "stream",
     "text": [
      "Quantizing models:  56%|█████▋    | 18/32 [00:12<00:09,  1.52it/s]"
     ]
    },
    {
     "name": "stdout",
     "output_type": "stream",
     "text": [
      "Accuracy: 0.7042, resolution: 18 bits\n",
      "Quantizing with 19 bits resolution...\n"
     ]
    },
    {
     "name": "stderr",
     "output_type": "stream",
     "text": [
      "Quantizing models:  59%|█████▉    | 19/32 [00:13<00:08,  1.53it/s]"
     ]
    },
    {
     "name": "stdout",
     "output_type": "stream",
     "text": [
      "Accuracy: 0.7042, resolution: 19 bits\n",
      "Quantizing with 20 bits resolution...\n"
     ]
    },
    {
     "name": "stderr",
     "output_type": "stream",
     "text": [
      "Quantizing models:  62%|██████▎   | 20/32 [00:13<00:07,  1.52it/s]"
     ]
    },
    {
     "name": "stdout",
     "output_type": "stream",
     "text": [
      "Accuracy: 0.7042, resolution: 20 bits\n",
      "Quantizing with 21 bits resolution...\n"
     ]
    },
    {
     "name": "stderr",
     "output_type": "stream",
     "text": [
      "Quantizing models:  66%|██████▌   | 21/32 [00:14<00:07,  1.51it/s]"
     ]
    },
    {
     "name": "stdout",
     "output_type": "stream",
     "text": [
      "Accuracy: 0.7042, resolution: 21 bits\n",
      "Quantizing with 22 bits resolution...\n"
     ]
    },
    {
     "name": "stderr",
     "output_type": "stream",
     "text": [
      "Quantizing models:  69%|██████▉   | 22/32 [00:15<00:06,  1.50it/s]"
     ]
    },
    {
     "name": "stdout",
     "output_type": "stream",
     "text": [
      "Accuracy: 0.7042, resolution: 22 bits\n",
      "Quantizing with 23 bits resolution...\n"
     ]
    },
    {
     "name": "stderr",
     "output_type": "stream",
     "text": [
      "Quantizing models:  72%|███████▏  | 23/32 [00:15<00:06,  1.50it/s]"
     ]
    },
    {
     "name": "stdout",
     "output_type": "stream",
     "text": [
      "Accuracy: 0.7042, resolution: 23 bits\n",
      "Quantizing with 24 bits resolution...\n"
     ]
    },
    {
     "name": "stderr",
     "output_type": "stream",
     "text": [
      "Quantizing models:  75%|███████▌  | 24/32 [00:16<00:05,  1.50it/s]"
     ]
    },
    {
     "name": "stdout",
     "output_type": "stream",
     "text": [
      "Accuracy: 0.7042, resolution: 24 bits\n",
      "Quantizing with 25 bits resolution...\n"
     ]
    },
    {
     "name": "stderr",
     "output_type": "stream",
     "text": [
      "Quantizing models:  78%|███████▊  | 25/32 [00:17<00:04,  1.50it/s]"
     ]
    },
    {
     "name": "stdout",
     "output_type": "stream",
     "text": [
      "Accuracy: 0.7042, resolution: 25 bits\n",
      "Quantizing with 26 bits resolution...\n"
     ]
    },
    {
     "name": "stderr",
     "output_type": "stream",
     "text": [
      "Quantizing models:  81%|████████▏ | 26/32 [00:17<00:03,  1.51it/s]"
     ]
    },
    {
     "name": "stdout",
     "output_type": "stream",
     "text": [
      "Accuracy: 0.7042, resolution: 26 bits\n",
      "Quantizing with 27 bits resolution...\n"
     ]
    },
    {
     "name": "stderr",
     "output_type": "stream",
     "text": [
      "Quantizing models:  84%|████████▍ | 27/32 [00:18<00:03,  1.51it/s]"
     ]
    },
    {
     "name": "stdout",
     "output_type": "stream",
     "text": [
      "Accuracy: 0.7042, resolution: 27 bits\n",
      "Quantizing with 28 bits resolution...\n"
     ]
    },
    {
     "name": "stderr",
     "output_type": "stream",
     "text": [
      "Quantizing models:  88%|████████▊ | 28/32 [00:19<00:02,  1.50it/s]"
     ]
    },
    {
     "name": "stdout",
     "output_type": "stream",
     "text": [
      "Accuracy: 0.7042, resolution: 28 bits\n",
      "Quantizing with 29 bits resolution...\n"
     ]
    },
    {
     "name": "stderr",
     "output_type": "stream",
     "text": [
      "Quantizing models:  91%|█████████ | 29/32 [00:19<00:01,  1.51it/s]"
     ]
    },
    {
     "name": "stdout",
     "output_type": "stream",
     "text": [
      "Accuracy: 0.7042, resolution: 29 bits\n",
      "Quantizing with 30 bits resolution...\n"
     ]
    },
    {
     "name": "stderr",
     "output_type": "stream",
     "text": [
      "Quantizing models:  94%|█████████▍| 30/32 [00:20<00:01,  1.52it/s]"
     ]
    },
    {
     "name": "stdout",
     "output_type": "stream",
     "text": [
      "Accuracy: 0.7042, resolution: 30 bits\n",
      "Quantizing with 31 bits resolution...\n"
     ]
    },
    {
     "name": "stderr",
     "output_type": "stream",
     "text": [
      "Quantizing models:  97%|█████████▋| 31/32 [00:21<00:00,  1.52it/s]"
     ]
    },
    {
     "name": "stdout",
     "output_type": "stream",
     "text": [
      "Accuracy: 0.7042, resolution: 31 bits\n",
      "Quantizing with 32 bits resolution...\n"
     ]
    },
    {
     "name": "stderr",
     "output_type": "stream",
     "text": [
      "Quantizing models: 100%|██████████| 32/32 [00:21<00:00,  1.48it/s]"
     ]
    },
    {
     "name": "stdout",
     "output_type": "stream",
     "text": [
      "Accuracy: 0.7042, resolution: 32 bits\n"
     ]
    },
    {
     "name": "stderr",
     "output_type": "stream",
     "text": [
      "\n"
     ]
    }
   ],
   "source": [
    "graphdef, trained_state = nnx.split(trained_model)\n",
    "\n",
    "# create a loop to iterate over bit resolution, keep the dynamic range at 3db\n",
    "res_list = jnp.arange(1, 33, 1).tolist()\n",
    "accuracy_per_res = []\n",
    "\n",
    "for res in tqdm(res_list, total=len(res_list), desc=\"Quantizing models\"):\n",
    "    print(f\"Quantizing with {res} bits resolution...\")\n",
    "\n",
    "    qmodel = PartialSumsNetwork(\n",
    "        layer_sizes=[1024, 2048, 512, 256],\n",
    "        rngs=nnx.Rngs(params=0, activations=1, permute=5, default=345),\n",
    "        activation_function=partial(qrelu, bits=res, max_value=2.0),\n",
    "        columns_per_core=256\n",
    "    )\n",
    "\n",
    "    qgraphdef, _ = nnx.split(qmodel)\n",
    "    qmodel = nnx.merge(qgraphdef, trained_state)\n",
    "\n",
    "    qmodel.eval() # Switch to evaluation mode.\n",
    "\n",
    "    accuracies = []\n",
    "\n",
    "    # evaluate the quantized model\n",
    "    for test_batch in test_ds.as_numpy_iterator():\n",
    "        preds = pred_step(qmodel, test_batch)\n",
    "        true_labels = test_batch['label']\n",
    "        accuracies.append(jnp.mean(preds == true_labels))\n",
    "\n",
    "    accuracy = jnp.mean(jnp.array(accuracies))\n",
    "    accuracy_per_res.append(float(accuracy))\n",
    "    print(f\"Accuracy: {accuracy:.4f}, resolution: {res} bits\")"
   ]
  },
  {
   "cell_type": "code",
   "execution_count": 15,
   "id": "9f175f09",
   "metadata": {},
   "outputs": [
    {
     "data": {
      "text/plain": [
       "[<matplotlib.lines.Line2D at 0x7fc0ac4dd050>]"
      ]
     },
     "execution_count": 15,
     "metadata": {},
     "output_type": "execute_result"
    },
    {
     "data": {
      "image/png": "[encoded data removed]",
      "text/plain": [
       "<Figure size 640x480 with 1 Axes>"
      ]
     },
     "metadata": {},
     "output_type": "display_data"
    }
   ],
   "source": [
    "plt.plot(res_list, accuracy_per_res, marker='o')"
   ]
  },
  {
   "cell_type": "code",
   "execution_count": null,
   "id": "2a08057d",
   "metadata": {},
   "outputs": [],
   "source": []
  }
 ],
 "metadata": {
  "kernelspec": {
   "display_name": "jax_gpu_env",
   "language": "python",
   "name": "python3"
  },
  "language_info": {
   "codemirror_mode": {
    "name": "ipython",
    "version": 3
   },
   "file_extension": ".py",
   "mimetype": "text/x-python",
   "name": "python",
   "nbconvert_exporter": "python",
   "pygments_lexer": "ipython3",
   "version": "3.11.11"
  }
 },
 "nbformat": 4,
 "nbformat_minor": 5
}
