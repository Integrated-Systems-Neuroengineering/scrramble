{
 "cells": [
  {
   "cell_type": "markdown",
   "metadata": {},
   "source": [
    "# Ternary stochastic neuron\n",
    "\n",
    "## goal of the notebook\n",
    "- To develop a model of ternary stochastic neuron in `JAX`\n",
    "- Show the transitions between the states as a function of the noise-free input.\n",
    "- Subject the model to gaussian additive noise.\n",
    "- One of the later aims could also be to characterize the gradient. Comparing the empirical and the calculated values.\n",
    "\n"
   ]
  },
  {
   "cell_type": "code",
   "execution_count": 1,
   "metadata": {},
   "outputs": [],
   "source": [
    "import jax\n",
    "import jax.numpy as jnp\n",
    "from functools import partial\n",
    "import numpy as np\n",
    "import matplotlib.pyplot as plt\n",
    "import seaborn as sns\n",
    "import tensorflow as tf\n",
    "import tensorflow_datasets as tfds\n",
    "import torch\n",
    "import torchvision.transforms as transforms\n",
    "from torchvision import datasets\n",
    "from torch.utils.data import DataLoader\n",
    "\n",
    "\n",
    "from sklearn.datasets import make_moons\n",
    "\n",
    "plt.rcParams['font.family'] = 'sans-serif'\n",
    "plt.rcParams['font.sans-serif'] = 'Arial'"
   ]
  },
  {
   "cell_type": "code",
   "execution_count": 2,
   "metadata": {},
   "outputs": [],
   "source": [
    "from tqdm.notebook import tqdm"
   ]
  },
  {
   "cell_type": "code",
   "execution_count": 3,
   "metadata": {},
   "outputs": [],
   "source": [
    "DATA_PATH = f\"/Users/vikrantjaltare/OneDrive - UC San Diego/Datasets/\"\n",
    "FIGURES_PATH = f\"/Users/vikrantjaltare/OneDrive - UC San Diego/Figures/onr_figures/\""
   ]
  },
  {
   "cell_type": "code",
   "execution_count": 4,
   "metadata": {},
   "outputs": [
    {
     "data": {
      "text/plain": [
       "<matplotlib.legend.Legend at 0x33ae07b30>"
      ]
     },
     "execution_count": 4,
     "metadata": {},
     "output_type": "execute_result"
    },
    {
     "data": {
      "image/png": "[encoded data removed]",
      "text/plain": [
       "<Figure size 640x480 with 1 Axes>"
      ]
     },
     "metadata": {},
     "output_type": "display_data"
    }
   ],
   "source": [
    "## Try: generating random numbers\n",
    "key1 = jax.random.key(1)\n",
    "mu1 = 1.0\n",
    "std1 = 0.5\n",
    "zeta_arr1 = mu1 + jax.random.normal(key1, (1000,))*std1\n",
    "zeta_arr2 = mu1 + jax.random.normal(key1, (1000,))*std1*5\n",
    "plt.hist(zeta_arr1, alpha =.5, label = f\"std = {std1}\")\n",
    "plt.hist(zeta_arr2, alpha =.5, label=f\"std = {std1*5}\")\n",
    "\n",
    "plt.legend()\n"
   ]
  },
  {
   "cell_type": "code",
   "execution_count": 143,
   "metadata": {},
   "outputs": [],
   "source": [
    "## create a neuron model\n",
    "@jax.jit\n",
    "def state_function(x, thresholds, std, key):\n",
    "    \"\"\"\n",
    "    Implements ternary state updates for vector inputs.\n",
    "    x: Input vector\n",
    "    thresholds: Two-element array of thresholds [theta1, theta2]\n",
    "    \"\"\"\n",
    "\n",
    "    theta1, theta2 = thresholds\n",
    "\n",
    "    noise = jax.random.normal(key, x.shape) * std\n",
    "    x = x + noise\n",
    "\n",
    "\n",
    "    # Apply element-wise thresholding using jax.numpy.where (which supports vectorization)\n",
    "    state = jnp.where(x < theta1, -1, \n",
    "                      jnp.where(x > theta2, 1, 0))\n",
    "\n",
    "    return state\n",
    "\n",
    "\n",
    "\n",
    "# @jax.jit\n",
    "# def activation(W, b, x):\n",
    "#     return jnp.dot(W, x) + b\n",
    "\n",
    "# @jax.jit\n",
    "# def generate_keys(init_key = 101, num_keys = 1000):\n",
    "#     key = jax.random.key(init_key)\n",
    "#     return jax.random.split(key, num = num_keys)\n",
    "\n",
    "# @jax.jit\n",
    "# def generate_gaussian_noise(key, mean, std, size):\n",
    "#     \"\"\"\n",
    "#     Generate random samples from a Gaussian distribution of a given size\n",
    "#     \"\"\"\n",
    "#     return mean + jax.random.normal(key, (size,)) * std\n",
    "\n",
    "@jax.jit\n",
    "def gaussian_erf(x, mu, sigma):\n",
    "    \"\"\"\n",
    "    Gaussian error function. \n",
    "    To compute survivor function simply use 1 - erf\n",
    "    \"\"\"\n",
    "    return 0.5 * (1 + jax.lax.erf((x - mu) / (sigma * jnp.sqrt(2))))\n",
    "\n",
    "@jax.jit\n",
    "def expected_state(y_tilde, threshold, std):\n",
    "    \"\"\"\"\n",
    "    Calculate the expected state.\n",
    "    Assume threshold to be a two element array\n",
    "    \"\"\"\n",
    "\n",
    "    # unpack the thresholds\n",
    "    theta1, theta2 = threshold\n",
    "\n",
    "    # calculate the expected state\n",
    "    E =  (1/(jnp.sqrt(2 * jnp.pi) * std)) * ((1 - gaussian_erf(x = theta2 - y_tilde, mu = 0, sigma = std)) - gaussian_erf(x = theta1 - y_tilde, mu = 0, sigma = std)) # # jax.nn.sigmoid(y_tilde)\n",
    "    return E\n"
   ]
  },
  {
   "cell_type": "code",
   "execution_count": 6,
   "metadata": {},
   "outputs": [
    {
     "name": "stdout",
     "output_type": "stream",
     "text": [
      "[-0.9785075 -1.3780545 -1.3985887]\n",
      "[ 0 -1 -1]\n"
     ]
    }
   ],
   "source": [
    "## testing state function\n",
    "W = jax.random.normal(key1, (3, 3))\n",
    "x = jax.random.normal(key1, (3,))\n",
    "print(jnp.dot(x, W.T))\n",
    "print(state_function(jnp.dot(x, W.T), [-1, 1]))"
   ]
  },
  {
   "cell_type": "code",
   "execution_count": 135,
   "metadata": {},
   "outputs": [],
   "source": [
    "## Defining state function with custom gradients: UNDER CONSTRUCTION\n",
    "@jax.custom_vjp\n",
    "def state_fn_with_custom_grad(x, threshold, std, key):\n",
    "    \"\"\"\n",
    "    Implements ternary state updates.\n",
    "    Uses state_function in the forward pass but overrides the gradient\n",
    "    with expected state in the backward pass\n",
    "    \"\"\"\n",
    "\n",
    "    return state_function(x, threshold, std, key)\n",
    "\n",
    "## define the forward pass\n",
    "def state_fwd(x, threshold, std, key):\n",
    "    return state_function(x, threshold, std, key), (x, threshold, std) # store x, threshold and std for the backward pass\n",
    "\n",
    "## define the backward pass\n",
    "def state_bwd(res, g):\n",
    "    # unpack the stored values\n",
    "    x, threshold, std = res\n",
    "\n",
    "    # use expected_state with passed std value\n",
    "    grad_x = expected_state(y_tilde = x, threshold = threshold, std = std)\n",
    "\n",
    "    return (grad_x * g, None, None) # None for threshold and std as they are not differentiable\n",
    "\n",
    "# Attach custom forward and backward to state_fn_with_custom_grad\n",
    "state_fn_with_custom_grad.defvjp(state_fwd, state_bwd)"
   ]
  },
  {
   "cell_type": "markdown",
   "metadata": {},
   "source": [
    "# Defining the architecture"
   ]
  },
  {
   "cell_type": "code",
   "execution_count": 136,
   "metadata": {},
   "outputs": [],
   "source": [
    "## Helper function to initialize the weights \n",
    "def random_layer_params(input_size, output_size, key):\n",
    "    \"\"\"\n",
    "    Initialize the weights and biases for a single layer\n",
    "    \"\"\"\n",
    "    scale = jnp.sqrt(2/(input_size + output_size))\n",
    "    w_key, b_key = jax.random.split(key)\n",
    "    W = jax.random.normal(w_key, (output_size, input_size)) * scale\n",
    "    b = jax.random.normal(b_key, (output_size, )) * scale\n",
    "\n",
    "    return W, b\n",
    "\n",
    "## Initialize all the layers for a fully-connected neural network with sizes \"sizes\"\n",
    "def init_network_params(sizes, key):\n",
    "    \"\"\"\n",
    "    Initialize the weights and biases for all the layers\n",
    "    \"\"\"\n",
    "\n",
    "    keys = jax.random.split(key, len(sizes))\n",
    "    params = [random_layer_params(n_in, n_out, k) for n_in, n_out, k in zip(sizes[:-1], sizes[1:], keys)]\n",
    "    return params\n",
    "\n",
    "## Initialize Adam parameters\n",
    "def init_adam_params(params):\n",
    "    \"\"\"\n",
    "    Initialize the Adam parameters\n",
    "    \"\"\"\n",
    "\n",
    "    # 1st order term\n",
    "    m = [(jnp.zeros_like(w), jnp.zeros_like(b)) for w, b in params]\n",
    "    # 2nd order term\n",
    "    v = [(jnp.zeros_like(w), jnp.zeros_like(b)) for w, b in params]\n",
    "    # initialize time\n",
    "    t = 1\n",
    "\n",
    "    return m, v, t\n",
    "\n",
    "\n",
    "## Forward pass through the network\n",
    "def predict(params, image, thresholds, key, noise_sd):\n",
    "    \"\"\"\n",
    "    Forward pass through the network\n",
    "    \"\"\"\n",
    "\n",
    "    # generate a key\n",
    "    key = jax.random.key(key)\n",
    "\n",
    "    # Unpack the image\n",
    "    activations = image\n",
    "\n",
    "    # print(f\"Activations.shape inside predict {activations.shape}\")\n",
    "\n",
    "    for i, (W, b) in enumerate(params[:-1]): # iterate through all but final layer\n",
    "        \n",
    "        # split the key\n",
    "        key, noise_key = jax.random.split(key, 2)\n",
    "\n",
    "        # comput noise-free input\n",
    "        y_tilde = jnp.dot(activations, W.T) + b\n",
    "\n",
    "        # # compute the expected state\n",
    "        # activations = expected_state(y_tilde=y_tilde, threshold = thresholds, std = noise_sd)\n",
    "\n",
    "        # # add noise to y_tilde: y = y_tilde + noise\n",
    "        # noise = noise_sd * jax.random.normal(noise_key, activations.shape)\n",
    "        # outputs = y_tilde + noise\n",
    "\n",
    "        # Apply thresholding function here\n",
    "        activations = state_fn_with_custom_grad(y_tilde, thresholds, noise_sd, noise_key)\n",
    "\n",
    "\n",
    "        # activations = state_function(outputs, thresholds)\n",
    "        # print(activations)\n",
    "\n",
    "    # for final layer no thresholding!\n",
    "    out_W, out_b = params[-1]\n",
    "    logits = jnp.dot(activations, out_W.T) + out_b\n",
    "\n",
    "    return logits # this is because we are taking log_softmax in the loss calculation function\n",
    "\n",
    "## dealing with batches using vmap\n",
    "batched_predict = jax.vmap(predict, in_axes = (None, 0, None, None, None)) # params, inputs, thresholds, key, noise_sd\n",
    "\n",
    "## define a one hot encoding function\n",
    "def one_hot(x, k, dtype = jnp.float32):\n",
    "    \"\"\"\n",
    "    One hot encoding\n",
    "    \"\"\"\n",
    "    return jnp.array(x[:, None] == jnp.arange(k), dtype)\n",
    "\n",
    "## define an accuracy function\n",
    "def accuracy(params, images, targets, thresholds, key, noise_sd):\n",
    "    \"\"\"\n",
    "    Calculate the accuracy of the model\n",
    "    \"\"\"\n",
    "    target_class = jnp.argmax(targets, axis = 1)\n",
    "    predicted_class = jnp.argmax(batched_predict(params, images, thresholds, key, noise_sd), axis = 1)\n",
    "    mean_acc = jnp.mean(predicted_class == target_class)\n",
    "\n",
    "    return mean_acc\n",
    "\n",
    "# def loss(params, images, targets):\n",
    "#   preds = batched_predict(params, images)\n",
    "#   return -jnp.mean(preds * targets)\n",
    "\n",
    "def ce_loss(params, images, targets, thresholds, key, noise_sd):\n",
    "    \"\"\"\n",
    "    Calculate the cross entropy loss: Rewrite this to incorporate batch size!!\n",
    "    \"\"\"\n",
    "\n",
    "    # make predictions\n",
    "    logits = batched_predict(params, images, thresholds, key, noise_sd)\n",
    "\n",
    "    # compute the cross-entropy loss\n",
    "    log_softmax = jax.nn.log_softmax(logits)\n",
    "\n",
    "    # compute the cross-entropy loss\n",
    "    loss = -jnp.sum(log_softmax * targets)\n",
    "\n",
    "    # add L2 penmalty\n",
    "    l2_penalty = 0 #0.5 * sum(jnp.sum(jnp.square(w)) for w, _ in params)\n",
    "\n",
    "    return jnp.mean(loss) + 1e-4*l2_penalty\n",
    "\n",
    "## define two update functions: one for SGD and one for Adam\n",
    "\n",
    "@jax.jit\n",
    "def update_with_sgd(params, x, y, thresholds, key, noise_sd, lr):\n",
    "    \"\"\"\n",
    "    Update parameters usinf SGD\n",
    "    \"\"\"\n",
    "    \n",
    "    # partially apply the non-differentiable arguments to ce_loss\n",
    "    loss_fn = partial(ce_loss, thresholds = thresholds, key = key, noise_sd = noise_sd)\n",
    "\n",
    "    # comput the gradients w.r.t. the parameters\n",
    "    grads = jax.grad(loss_fn)(params, x, y)\n",
    "\n",
    "    # update the parameters\n",
    "    return [(w - lr * dw, b - lr * db) for (w, b), (dw, db) in zip(params, grads)]\n",
    "\n",
    "\n",
    "@jax.jit\n",
    "def update_with_adam(params, x, y, thresholds, key, noise_sd, optim_state, lr_adam = 1e-3, beta1 = 0.9, beta2 = 0.999, epsi = 1e-8):\n",
    "    \"\"\"\n",
    "    Update the parameters using Adam\n",
    "    \"\"\"\n",
    "\n",
    "    # partially apply the non-differentiable arguments to ce_loss\n",
    "    loss_fn = partial(ce_loss, thresholds = thresholds, key = key, noise_sd = noise_sd)\n",
    "\n",
    "    # comput the gradients w.r.t. the parameters\n",
    "    grads = jax.grad(loss_fn)(params, x, y)\n",
    "\n",
    "    # extract parameters from the optimizer state\n",
    "    m, v, t = optim_state # for JAX: storing internal states explicitly is requried\n",
    "\n",
    "    new_params = []\n",
    "    new_m = []\n",
    "    new_v = []\n",
    "\n",
    "    for (w, b), (dw, db), (m_w, m_b), (v_w, v_b) in zip(params, grads, m, v):\n",
    "        # update the first order moment\n",
    "        m_w = beta1 * m_w + (1 - beta1) * dw\n",
    "        m_b = beta1 * m_b + (1 - beta1) * db\n",
    "\n",
    "        # update the second order moments\n",
    "        v_w = beta2 * v_w + (1 - beta2) * dw**2\n",
    "        v_b = beta2 * v_b + (1 - beta2) * db**2\n",
    "\n",
    "        # compute the bias correct moment estimates\n",
    "        m_w_hat = m_w/(1 - beta1**t)\n",
    "        m_b_hat = m_b/(1 - beta1**t)\n",
    "        v_w_hat = v_w/(1 - beta2**t)\n",
    "        v_b_hat = v_b/(1 - beta2**t)\n",
    "\n",
    "        # update the parameters\n",
    "        w_new = w - lr_adam * m_w_hat/(jnp.sqrt(v_w_hat) + epsi)\n",
    "        b_new = b - lr_adam * m_b_hat/(jnp.sqrt(v_b_hat) + epsi)\n",
    "\n",
    "        # append updated params \n",
    "        new_params.append((w_new, b_new))\n",
    "        new_m.append((m_w, m_b))\n",
    "        new_v.append((v_w, v_b))\n",
    "\n",
    "\n",
    "\n",
    "    # increment time\n",
    "    t = t + 1\n",
    "\n",
    "    # return updated parameters and updated Adam states\n",
    "\n",
    "    return new_params, (new_m, new_v, t)\n",
    "\n",
    "\n",
    "\n",
    "\n",
    "# ## define a param update function\n",
    "# @jax.jit\n",
    "# def update(params, x, y, thresholds, key, noise_sd, lr, opt_state, optimizer = 0):\n",
    "#     \"\"\"\n",
    "#     Update the model parameters.\n",
    "#     Update the function to incorporate Adam.\n",
    "#     As strings are not JAX compatible, we will use 0 for SGD and 1 for Adam\n",
    "#     \"\"\"\n",
    "\n",
    "#     # partially apply the non-differentiable arguments to ce_loss\n",
    "#     loss_fn = partial(ce_loss, thresholds = thresholds, key = key, noise_sd = noise_sd)\n",
    "\n",
    "#     # comput the gradients w.r.t. the parameters\n",
    "#     grads = jax.grad(loss_fn)(params, x, y)\n",
    "\n",
    "#     def sgd_update(args):\n",
    "#         params, grads, lr, _ = args\n",
    "#         new_params = [(w - lr * dw, b - lr * db) for (w, b), (dw, db) in zip(params, grads)]\n",
    "#         return new_params, None\n",
    "    \n",
    "#     def adam_update(args):\n",
    "#         params, grads, opt_state, lr = args\n",
    "#         # declare the hypterparameters as recommended in the original paper\n",
    "#         [beta1, beta2, epsi, lr_adam] = [0.9, 0.999, 1e-8, 1e-3]\n",
    "#         m, v, t = opt_state # for JAX: storing internal states explicitly is requried\n",
    "#         # extract parameters from the optimizer state\n",
    "#         m, v, t = opt_state # for JAX: storing internal states explicitly is requried\n",
    "\n",
    "#         new_params = []\n",
    "#         new_m = []\n",
    "#         new_v = []\n",
    "\n",
    "#         for (w, b), (dw, db), (m_w, m_b), (v_w, v_b) in zip(params, grads, m, v):\n",
    "#             # update the first order moment\n",
    "#             m_w = beta1 * m_w + (1 - beta1) * dw\n",
    "#             m_b = beta1 * m_b + (1 - beta1) * db\n",
    "\n",
    "#             # update the second order moments\n",
    "#             v_w = beta2 * v_w + (1 - beta2) * dw**2\n",
    "#             v_b = beta2 * v_b + (1 - beta2) * db**2\n",
    "\n",
    "#             # compute the bias correct moment estimates\n",
    "#             m_w_hat = m_w/(1 - beta1**t)\n",
    "#             m_b_hat = m_b/(1 - beta1**t)\n",
    "#             v_w_hat = v_w/(1 - beta2**t)\n",
    "#             v_b_hat = v_b/(1 - beta2**t)\n",
    "\n",
    "#             # update the parameters\n",
    "#             w_new = w - lr_adam * m_w_hat/(jnp.sqrt(v_w_hat) + epsi)\n",
    "#             b_new = b - lr_adam * m_b_hat/(jnp.sqrt(v_b_hat) + epsi)\n",
    "\n",
    "#             # append updated params \n",
    "#             new_params.append((w_new, b_new))\n",
    "#             new_m.append((m_w, m_b))\n",
    "#             new_v.append((v_w, v_b))\n",
    "\n",
    "\n",
    "\n",
    "#         # increment time\n",
    "#         t = t + 1\n",
    "\n",
    "#         # return updated parameters and updated Adam states\n",
    "\n",
    "#         return new_params, (new_m, new_v, t)\n",
    "    \n",
    "#     return jax.lax.cond(\n",
    "#         optimizer == 0,\n",
    "#         sgd_update, \n",
    "#         adam_update,\n",
    "#         (params, grads, lr), \n",
    "#         (params, grads, opt_state, lr)\n",
    "#     )\n"
   ]
  },
  {
   "cell_type": "code",
   "execution_count": 88,
   "metadata": {},
   "outputs": [],
   "source": [
    "# load MNIST using tensorflow\n",
    "temp_data_dir = DATA_PATH\n",
    "# Ensure TF does not see GPU and grab all GPU memory.\n",
    "tf.config.set_visible_devices([], device_type='GPU')\n",
    "\n",
    "mnist_data, info = tfds.load(name=\"mnist\", batch_size=-1, data_dir=temp_data_dir, with_info=True)\n",
    "mnist_data = tfds.as_numpy(mnist_data)\n",
    "train_data, test_data = mnist_data['train'], mnist_data['test']\n",
    "num_labels = info.features['label'].num_classes\n",
    "h, w, c = info.features['image'].shape\n",
    "num_pixels = h * w * c\n",
    "\n",
    "# Full train set\n",
    "train_images, train_labels = train_data['image'], train_data['label']\n",
    "train_images = jnp.reshape(train_images, (len(train_images), num_pixels))\n",
    "train_labels = one_hot(train_labels, num_labels)\n",
    "\n",
    "# Full test set\n",
    "test_images, test_labels = test_data['image'], test_data['label']\n",
    "test_images = jnp.reshape(test_images, (len(test_images), num_pixels))\n",
    "test_labels = one_hot(test_labels, num_labels)\n"
   ]
  },
  {
   "cell_type": "code",
   "execution_count": 114,
   "metadata": {},
   "outputs": [
    {
     "name": "stdout",
     "output_type": "stream",
     "text": [
      "Train: (60000, 784) (60000, 10)\n",
      "Test: (10000, 784) (10000, 10)\n"
     ]
    }
   ],
   "source": [
    "print('Train:', train_images.shape, train_labels.shape)\n",
    "print('Test:', test_images.shape, test_labels.shape)\n"
   ]
  },
  {
   "cell_type": "code",
   "execution_count": 144,
   "metadata": {},
   "outputs": [],
   "source": [
    "## initializing the network: in the future this should be a dictionary\n",
    "threshold = [-2, 1]\n",
    "layer_size = [784, 2098, 10]\n",
    "num_epochs = 5\n",
    "batch_size = 128\n",
    "n_targets = 10\n",
    "net_params = init_network_params(layer_size, jax.random.key(0))\n",
    "\n",
    "opti_dict = {\n",
    "    'SGD': 0,\n",
    "    'Adam': 1\n",
    "}\n",
    "\n",
    "\n",
    "\n",
    "# batched_predictions = batched_predict(net_params, flattened_images)\n"
   ]
  },
  {
   "cell_type": "code",
   "execution_count": 145,
   "metadata": {},
   "outputs": [
    {
     "data": {
      "application/vnd.jupyter.widget-view+json": {
       "model_id": "af0f21b56861455d9db16b6b1d444c1b",
       "version_major": 2,
       "version_minor": 0
      },
      "text/plain": [
       "  0%|          | 0/5 [00:00<?, ?it/s]"
      ]
     },
     "metadata": {},
     "output_type": "display_data"
    },
    {
     "name": "stdout",
     "output_type": "stream",
     "text": [
      "Noise SD sim: 10\n",
      "Training set accuracy 0.09266667068004608\n",
      "Test set accuracy 0.09129999577999115\n",
      "Noise SD sim: 10\n",
      "Training set accuracy 0.9419000148773193\n",
      "Test set accuracy 0.9341999888420105\n",
      "Noise SD sim: 10\n",
      "Training set accuracy 0.9601333737373352\n",
      "Test set accuracy 0.9431999921798706\n",
      "Noise SD sim: 10\n",
      "Training set accuracy 0.9681666493415833\n",
      "Test set accuracy 0.9456999897956848\n",
      "Noise SD sim: 10\n",
      "Training set accuracy 0.9728000164031982\n",
      "Test set accuracy 0.946899950504303\n"
     ]
    },
    {
     "data": {
      "image/png": "[encoded data removed]",
      "text/plain": [
       "<Figure size 640x480 with 1 Axes>"
      ]
     },
     "metadata": {},
     "output_type": "display_data"
    }
   ],
   "source": [
    "def get_train_batches():\n",
    "  \n",
    "  # as_supervised=True gives us the (image, label) as a tuple instead of a dict\n",
    "  ds = tfds.load(name='mnist', split='train', as_supervised=True, data_dir = DATA_PATH)\n",
    "  # You can build up an arbitrary tf.data input pipeline\n",
    "  ds = ds.batch(batch_size).prefetch(1)\n",
    "  # tfds.dataset_as_numpy converts the tf.data.Dataset into an iterable of NumPy arrays\n",
    "  return tfds.as_numpy(ds)\n",
    "\n",
    "train_acc_list = []\n",
    "test_acc_list = []\n",
    "noise_sd_sim = 10\n",
    "noise_sd_inf = 10\n",
    "lr_sim = 1e-4\n",
    "(m, v, t) = init_adam_params(net_params)\n",
    "opti = 1\n",
    "\n",
    "for epoch in tqdm(range(num_epochs)):\n",
    "  # Compute accuracy at the start of the epoch\n",
    "  print(f\"Noise SD sim: {noise_sd_sim}\")\n",
    "  train_acc = accuracy(params=net_params, images=train_images, targets=train_labels, thresholds = threshold, key = 0, noise_sd = noise_sd_inf)\n",
    "  test_acc = accuracy(params=net_params, images=test_images, targets=test_labels, thresholds = threshold, key = 0, noise_sd = noise_sd_inf)\n",
    "  train_acc_list.append(train_acc)\n",
    "  test_acc_list.append(test_acc)\n",
    "  print(f\"Training set accuracy {train_acc}\")\n",
    "  print(f\"Test set accuracy {test_acc}\")\n",
    "\n",
    "  for x, y in get_train_batches():\n",
    "    x = jnp.reshape(x, (len(x), num_pixels))\n",
    "    # print(x.shape)\n",
    "    # break\n",
    "    y = one_hot(y, num_labels)\n",
    "    net_params, (m, v, t) = update_with_adam(net_params, x, y, threshold, key = 0, noise_sd = noise_sd_sim, optim_state = (m, v, t))\n",
    "    # if opti == 0:\n",
    "    #   net_params, _ = update(params = net_params, x = x, y = y, thresholds = threshold, key = 0, noise_sd = noise_sd_sim, lr = lr_sim, optimizer = 0, opt_state = None)\n",
    "    # else:\n",
    "    #   net_params, (m, v, t) = update(params = net_params, x = x, y = y, thresholds = threshold, key = 0, noise_sd = noise_sd_sim, lr = lr_sim, optimizer = 1, opt_state = (m, v, t))\n",
    "\n",
    "#   train_acc = accuracy(params=net_params, images=train_images, targets=train_labels, thresholds = threshold, key = 0, noise_sd = noise_sd_inf)\n",
    "#   test_acc = accuracy(params=net_params, images=test_images, targets=test_labels, thresholds = threshold, key = 0, noise_sd = noise_sd_inf)\n",
    "#   train_acc_list.append(train_acc)\n",
    "#   test_acc_list.append(test_acc)\n",
    "#   print(\"Training set accuracy {}\".format(train_acc))\n",
    "#   print(\"Test set accuracy {}\".format(test_acc))\n",
    "\n",
    "#   # annealing??\n",
    "  # noise_sd_sim = noise_sd_sim * 0.7\n",
    "  # noise_sd_inf = noise_sd_inf * 0.7\n",
    "\n",
    "\n",
    "## Plotting the results\n",
    "fig, ax = plt.subplots()\n",
    "ax.plot(train_acc_list, label = \"Training accuracy\")\n",
    "ax.plot(test_acc_list, label = \"Test accuracy\")\n",
    "ax.set_xlabel(\"Epochs\")\n",
    "ax.set_ylabel(\"Accuracy\")\n",
    "ax.legend()\n",
    "ax.set_xlim([-0.5, num_epochs])\n",
    "ax.set_ylim([0, 1])\n",
    "\n",
    "sns.despine()"
   ]
  },
  {
   "cell_type": "markdown",
   "metadata": {},
   "source": [
    "## Analyzing the accuracy as a function of noise standard deviation"
   ]
  },
  {
   "cell_type": "code",
   "execution_count": 159,
   "metadata": {},
   "outputs": [
    {
     "name": "stdout",
     "output_type": "stream",
     "text": [
      "[9.99999994e-09 1.00000001e-07 9.99999997e-07 9.99999975e-06\n",
      " 9.99999975e-05 1.00000005e-03 1.00000054e-02 1.00000024e-01\n",
      " 1.00000024e+00 1.00000057e+01 1.00000000e+02]\n"
     ]
    },
    {
     "data": {
      "application/vnd.jupyter.widget-view+json": {
       "model_id": "5246bf095f81434a801ea27a741edcb2",
       "version_major": 2,
       "version_minor": 0
      },
      "text/plain": [
       "  0%|          | 0/11 [00:00<?, ?it/s]"
      ]
     },
     "metadata": {},
     "output_type": "display_data"
    },
    {
     "name": "stdout",
     "output_type": "stream",
     "text": [
      "Running simulation for noise_sd = 9.99999993922529e-09\n",
      "Running simulation for noise_sd = 1.0000000116860974e-07\n",
      "Running simulation for noise_sd = 9.999999974752427e-07\n",
      "Running simulation for noise_sd = 9.999999747378752e-06\n",
      "Running simulation for noise_sd = 9.999999747378752e-05\n",
      "Running simulation for noise_sd = 0.0010000000474974513\n",
      "Running simulation for noise_sd = 0.01000000536441803\n",
      "Running simulation for noise_sd = 0.10000002384185791\n",
      "Running simulation for noise_sd = 1.000000238418579\n",
      "Running simulation for noise_sd = 10.000005722045898\n",
      "Running simulation for noise_sd = 100.0\n"
     ]
    },
    {
     "data": {
      "text/plain": [
       "<matplotlib.legend.Legend at 0x3793d1070>"
      ]
     },
     "execution_count": 159,
     "metadata": {},
     "output_type": "execute_result"
    },
    {
     "data": {
      "image/png": "[encoded data removed]",
      "text/plain": [
       "<Figure size 640x480 with 1 Axes>"
      ]
     },
     "metadata": {},
     "output_type": "display_data"
    }
   ],
   "source": [
    "## initialize noise sd to sweep\n",
    "noise_sd_arr = jnp.logspace(-8, 2, 11)\n",
    "print(noise_sd_arr)\n",
    "\n",
    "## initializing the network: in the future this should be a dictionary\n",
    "threshold = [-1, 1]\n",
    "layer_size = [784, 2048, 10]\n",
    "num_epochs = 5\n",
    "batch_size = 128\n",
    "n_targets = 10\n",
    "# (m, v, t) = init_adam_params(net_params)\n",
    "\n",
    "## initialize the finaly accuracies\n",
    "final_train_acc = []\n",
    "final_test_acc = []\n",
    "\n",
    "for noise_sd in tqdm(noise_sd_arr):\n",
    "    print(f\"Running simulation for noise_sd = {noise_sd}\")\n",
    "\n",
    "    # initialize the weights\n",
    "    net_params = init_network_params(layer_size, jax.random.key(0))\n",
    "\n",
    "    train_acc_list = []\n",
    "    test_acc_list = []\n",
    "\n",
    "    for epoch in range(num_epochs):\n",
    "        # Compute accuracy at the start of the epoch\n",
    "        train_acc = accuracy(params=net_params, images=train_images, targets=train_labels, thresholds = threshold, key = 0, noise_sd = noise_sd)\n",
    "        test_acc = accuracy(params=net_params, images=test_images, targets=test_labels, thresholds = threshold, key = 0, noise_sd = noise_sd)\n",
    "        train_acc_list.append(train_acc)\n",
    "        test_acc_list.append(test_acc)\n",
    "\n",
    "        for x, y in get_train_batches():\n",
    "            x = jnp.reshape(x, (len(x), num_pixels))\n",
    "            # print(x.shape)\n",
    "            # break\n",
    "            y = one_hot(y, num_labels)\n",
    "            # net_params, (m, v, t) = update_with_adam(net_params, x ,y, threshold, key = 0, noise_sd = noise_sd_sim, optim_state = (m, v, t))\n",
    "            net_params = update_with_sgd(params = net_params, x = x, y = y, key = 0, thresholds = threshold, noise_sd = noise_sd_sim, lr = lr_sim)\n",
    "\n",
    "    final_train_acc.append(train_acc_list[-1])\n",
    "    final_test_acc.append(test_acc_list[-1])\n",
    "\n",
    "\n",
    "## Plotting the results\n",
    "fig, ax = plt.subplots()\n",
    "ax.semilogx(noise_sd_arr, final_train_acc, label = \"Training accuracy\")\n",
    "ax.semilogx(noise_sd_arr, final_test_acc, label = \"Test accuracy\")\n",
    "ax.set_xlabel(\"Noise SD\")\n",
    "ax.set_ylabel(\"Accuracy\")\n",
    "ax.legend()\n"
   ]
  },
  {
   "cell_type": "code",
   "execution_count": 158,
   "metadata": {},
   "outputs": [
    {
     "data": {
      "text/plain": [
       "<matplotlib.legend.Legend at 0x35d489a30>"
      ]
     },
     "execution_count": 158,
     "metadata": {},
     "output_type": "execute_result"
    },
    {
     "data": {
      "image/png": "[encoded data removed]",
      "text/plain": [
       "<Figure size 640x480 with 1 Axes>"
      ]
     },
     "metadata": {},
     "output_type": "display_data"
    }
   ],
   "source": [
    "## Plotting the results\n",
    "fig, ax = plt.subplots()\n",
    "ax.semilogx(noise_sd_arr, final_train_acc, label = \"Training accuracy\", marker = 'o')\n",
    "ax.semilogx(noise_sd_arr, final_test_acc, label = \"Test accuracy\", marker = 'o')\n",
    "ax.set_xlabel(r\"Noise SD ($\\sigma$)\")\n",
    "ax.set_ylabel(\"Accuracy\")\n",
    "ax.axhline(y = 0.95, color = 'k', linestyle = '--')\n",
    "ax.legend()"
   ]
  },
  {
   "cell_type": "code",
   "execution_count": 177,
   "metadata": {},
   "outputs": [
    {
     "data": {
      "text/plain": [
       "Array(2.679658e-11, dtype=float32, weak_type=True)"
      ]
     },
     "execution_count": 177,
     "metadata": {},
     "output_type": "execute_result"
    }
   ],
   "source": [
    "gg = jax.grad(expected_state)\n",
    "gg(1.0 + 1e-5, [-1, 1], 1e-6)"
   ]
  },
  {
   "cell_type": "code",
   "execution_count": null,
   "metadata": {},
   "outputs": [],
   "source": [
    "expected_state(y)"
   ]
  },
  {
   "cell_type": "code",
   "execution_count": 17,
   "metadata": {},
   "outputs": [],
   "source": [
    "# for x, y in get_train_batches():\n",
    "#     x = jnp.reshape(x, (len(x), num_pixels))  # Flatten input to (batch_size, 784)\n",
    "#     y = one_hot(y, num_labels)\n",
    "\n",
    "#     # Check the shape before applying batched_predict\n",
    "#     print(f\"Before batched_predict: {x.shape}\")  # Should be (batch_size, 784)\n",
    "\n",
    "#     logits = batched_predict(net_params, x, threshold, 0, 0.0001)\n",
    "\n",
    "#     # Check the shape after batched_predict\n",
    "#     print(f\"After batched_predict: {logits.shape}\")\n",
    "    \n",
    "#     net_params = update(params=net_params, x=x, y=y, thresholds=threshold, key=0, noise_sd=0.1, lr=0.1)"
   ]
  },
  {
   "cell_type": "code",
   "execution_count": 20,
   "metadata": {},
   "outputs": [],
   "source": [
    "# plt.imshow(net_params[1][0], cmap = \"viridis\")"
   ]
  },
  {
   "cell_type": "code",
   "execution_count": 71,
   "metadata": {},
   "outputs": [],
   "source": [
    "# ## load MNIST using Pytorch\n",
    "# def jax_transform(x):\n",
    "#     \"\"\"Flatten and convert to JAX array.\"\"\"\n",
    "#     return jnp.ravel(jnp.array(x, dtype=jnp.float32)) / 255.0  # Normalize to [0, 1]\n",
    "\n",
    "# ## Custom collate function for batching\n",
    "# def jax_custom_collate(batch):\n",
    "#     \"\"\"Collate function to prepare data and labels for JAX.\"\"\"\n",
    "#     transposed_data = list(zip(*batch))\n",
    "    \n",
    "#     # Labels as JAX arrays (int32)\n",
    "#     labels = jnp.array(transposed_data[1], dtype=jnp.int32)\n",
    "    \n",
    "#     # Data as stacked JAX arrays\n",
    "#     data = jnp.stack(transposed_data[0], axis=0)\n",
    "    \n",
    "#     return data, labels\n",
    "\n",
    "# # ## Data loading parameters\n",
    "# # data_params = {\n",
    "# #     \"batch_size\": 128,\n",
    "# #     \"num_workers\": 0,\n",
    "# #     \"pin_memory\": False,\n",
    "# #     \"shuffle\": True\n",
    "# # }\n",
    "\n",
    "# ## Load MNIST datasets using PyTorch's torchvision\n",
    "# train_dataset = datasets.MNIST(root=DATA_PATH, train=True, download=False, transform=jax_transform)\n",
    "# test_dataset = datasets.MNIST(root=DATA_PATH, train=False, download=False, transform=jax_transform)\n",
    "\n",
    "# ## Create DataLoader for training and test datasets\n",
    "# train_loader = DataLoader(train_dataset, collate_fn=jax_custom_collate, drop_last=True, batch_size=batch_size)\n",
    "# test_loader = DataLoader(test_dataset, collate_fn=jax_custom_collate, drop_last=True, batch_size = batch_size)\n",
    "\n",
    "\n"
   ]
  },
  {
   "cell_type": "code",
   "execution_count": 72,
   "metadata": {},
   "outputs": [
    {
     "name": "stdout",
     "output_type": "stream",
     "text": [
      "Train set images shape: (128, 784)\n",
      "Train set labels shape: (128,)\n",
      "Test set images shape: (128, 784)\n",
      "Test set labels shape: (128,)\n",
      "Total number of training samples: 60000\n",
      "Total number of testing samples: 10000\n"
     ]
    }
   ],
   "source": [
    "# # Get the first batch from the training loader and print the shapes\n",
    "# train_images, train_labels = next(iter(train_loader))\n",
    "# print(f\"Train set images shape: {train_images.shape}\")\n",
    "# print(f\"Train set labels shape: {train_labels.shape}\")\n",
    "\n",
    "# # Get the first batch from the test loader and print the shapes\n",
    "# test_images, test_labels = next(iter(test_loader))\n",
    "# print(f\"Test set images shape: {test_images.shape}\")\n",
    "# print(f\"Test set labels shape: {test_labels.shape}\")\n",
    "\n",
    "# print(f\"Total number of training samples: {len(train_dataset)}\")\n",
    "# print(f\"Total number of testing samples: {len(test_dataset)}\")"
   ]
  },
  {
   "cell_type": "code",
   "execution_count": 88,
   "metadata": {},
   "outputs": [],
   "source": [
    "# ## training loop\n",
    "# num_pixels = 784\n",
    "# num_labels = 10\n",
    "# key_ = jax.random.key(0)\n",
    "# test_accuracy = []\n",
    "# train_accuracy = []\n",
    "\n",
    "# for epoch in range(num_epochs):\n",
    "\n",
    "#     for x_batch, y_batch in train_loader:\n",
    "#         # Reshape the input images to (batch_size, num_pixels)\n",
    "#         x_batch = jnp.reshape(x_batch, (len(x_batch), num_pixels))\n",
    "        \n",
    "#         # One-hot encode the labels\n",
    "#         y_batch = one_hot(y_batch, num_labels)\n",
    "        \n",
    "#         # Update parameters using the training batch\n",
    "#         net_params = update(net_params, x_batch, y_batch, thresholds = threshold, key = key_, noise_sd = 0.01, lr = 1e-3)\n",
    "\n",
    "#     # Calculate accuracy on the training set\n",
    "#     train_images, train_labels = next(iter(train_loader))\n",
    "#     train_images = jnp.reshape(train_images, (len(train_images), num_pixels))\n",
    "#     train_labels = one_hot(train_labels, num_labels)\n",
    "#     train_acc = accuracy(net_params, train_images, train_labels)\n",
    "#     train_accuracy.append(train_acc)\n",
    "\n",
    "#     # Calculate accuracy on the test set\n",
    "#     test_images, test_labels = next(iter(test_loader))\n",
    "#     test_images = jnp.reshape(test_images, (len(test_images), num_pixels))\n",
    "#     test_labels = one_hot(test_labels, num_labels)\n",
    "#     test_acc = accuracy(net_params, test_images, test_labels)\n",
    "\n",
    "#     print(f\"Training set accuracy {train_acc}\")\n",
    "#     print(f\"Test set accuracy {test_acc}\")\n",
    "\n",
    "\n",
    "\n",
    "\n"
   ]
  },
  {
   "cell_type": "code",
   "execution_count": null,
   "metadata": {},
   "outputs": [],
   "source": []
  }
 ],
 "metadata": {
  "kernelspec": {
   "display_name": "jax_env",
   "language": "python",
   "name": "python3"
  },
  "language_info": {
   "codemirror_mode": {
    "name": "ipython",
    "version": 3
   },
   "file_extension": ".py",
   "mimetype": "text/x-python",
   "name": "python",
   "nbconvert_exporter": "python",
   "pygments_lexer": "ipython3",
   "version": "3.12.2"
  }
 },
 "nbformat": 4,
 "nbformat_minor": 2
}
